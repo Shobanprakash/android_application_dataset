{
 "cells": [
  {
   "cell_type": "markdown",
   "metadata": {},
   "source": [
    "# ANDROID APPLICATION DATA ANALYSIS"
   ]
  },
  {
   "cell_type": "markdown",
   "metadata": {},
   "source": [
    "\n",
    "Dataset: https://drive.google.com/file/d/1lGIrooUAGjgNSSfD2C9VrS4Oy3paLTdO/view?usp=sharing"
   ]
  },
  {
   "cell_type": "markdown",
   "metadata": {},
   "source": [
    "* importing important libraries"
   ]
  },
  {
   "cell_type": "code",
   "execution_count": 180,
   "metadata": {},
   "outputs": [],
   "source": [
    "import pandas as pd\n",
    "import numpy as np\n",
    "import re\n",
    "import matplotlib.pyplot as plt\n",
    "import seaborn as sns"
   ]
  },
  {
   "cell_type": "code",
   "execution_count": 181,
   "metadata": {},
   "outputs": [],
   "source": [
    "df = pd.read_csv(r'C:\\Users\\shoba\\Desktop\\data_science\\android_application\\Mobile_Applications.csv')"
   ]
  },
  {
   "cell_type": "code",
   "execution_count": 182,
   "metadata": {},
   "outputs": [
    {
     "data": {
      "text/html": [
       "<div>\n",
       "<style scoped>\n",
       "    .dataframe tbody tr th:only-of-type {\n",
       "        vertical-align: middle;\n",
       "    }\n",
       "\n",
       "    .dataframe tbody tr th {\n",
       "        vertical-align: top;\n",
       "    }\n",
       "\n",
       "    .dataframe thead th {\n",
       "        text-align: right;\n",
       "    }\n",
       "</style>\n",
       "<table border=\"1\" class=\"dataframe\">\n",
       "  <thead>\n",
       "    <tr style=\"text-align: right;\">\n",
       "      <th></th>\n",
       "      <th>App</th>\n",
       "      <th>Category</th>\n",
       "      <th>Rating</th>\n",
       "      <th>Reviews</th>\n",
       "      <th>Size</th>\n",
       "      <th>Installs</th>\n",
       "      <th>Type</th>\n",
       "      <th>Price</th>\n",
       "      <th>Content Rating</th>\n",
       "      <th>Genres</th>\n",
       "      <th>Last Updated</th>\n",
       "      <th>Current Ver</th>\n",
       "      <th>Android Ver</th>\n",
       "    </tr>\n",
       "  </thead>\n",
       "  <tbody>\n",
       "    <tr>\n",
       "      <th>0</th>\n",
       "      <td>Photo Editor &amp; Candy Camera &amp; Grid &amp; ScrapBook</td>\n",
       "      <td>ART_AND_DESIGN</td>\n",
       "      <td>4.1</td>\n",
       "      <td>159</td>\n",
       "      <td>19M</td>\n",
       "      <td>10,000+</td>\n",
       "      <td>Free</td>\n",
       "      <td>0</td>\n",
       "      <td>Everyone</td>\n",
       "      <td>Art &amp; Design</td>\n",
       "      <td>January 7, 2018</td>\n",
       "      <td>1.0.0</td>\n",
       "      <td>4.0.3 and up</td>\n",
       "    </tr>\n",
       "    <tr>\n",
       "      <th>1</th>\n",
       "      <td>Coloring book moana</td>\n",
       "      <td>ART_AND_DESIGN</td>\n",
       "      <td>3.9</td>\n",
       "      <td>967</td>\n",
       "      <td>14M</td>\n",
       "      <td>500,000+</td>\n",
       "      <td>Free</td>\n",
       "      <td>0</td>\n",
       "      <td>Everyone</td>\n",
       "      <td>Art &amp; Design;Pretend Play</td>\n",
       "      <td>January 15, 2018</td>\n",
       "      <td>2.0.0</td>\n",
       "      <td>4.0.3 and up</td>\n",
       "    </tr>\n",
       "    <tr>\n",
       "      <th>2</th>\n",
       "      <td>U Launcher Lite – FREE Live Cool Themes, Hide ...</td>\n",
       "      <td>ART_AND_DESIGN</td>\n",
       "      <td>4.7</td>\n",
       "      <td>87510</td>\n",
       "      <td>8.7M</td>\n",
       "      <td>5,000,000+</td>\n",
       "      <td>Free</td>\n",
       "      <td>0</td>\n",
       "      <td>Everyone</td>\n",
       "      <td>Art &amp; Design</td>\n",
       "      <td>August 1, 2018</td>\n",
       "      <td>1.2.4</td>\n",
       "      <td>4.0.3 and up</td>\n",
       "    </tr>\n",
       "    <tr>\n",
       "      <th>3</th>\n",
       "      <td>Sketch - Draw &amp; Paint</td>\n",
       "      <td>ART_AND_DESIGN</td>\n",
       "      <td>4.5</td>\n",
       "      <td>215644</td>\n",
       "      <td>25M</td>\n",
       "      <td>50,000,000+</td>\n",
       "      <td>Free</td>\n",
       "      <td>0</td>\n",
       "      <td>Teen</td>\n",
       "      <td>Art &amp; Design</td>\n",
       "      <td>June 8, 2018</td>\n",
       "      <td>Varies with device</td>\n",
       "      <td>4.2 and up</td>\n",
       "    </tr>\n",
       "    <tr>\n",
       "      <th>4</th>\n",
       "      <td>Pixel Draw - Number Art Coloring Book</td>\n",
       "      <td>ART_AND_DESIGN</td>\n",
       "      <td>4.3</td>\n",
       "      <td>967</td>\n",
       "      <td>2.8M</td>\n",
       "      <td>100,000+</td>\n",
       "      <td>Free</td>\n",
       "      <td>0</td>\n",
       "      <td>Everyone</td>\n",
       "      <td>Art &amp; Design;Creativity</td>\n",
       "      <td>June 20, 2018</td>\n",
       "      <td>1.1</td>\n",
       "      <td>4.4 and up</td>\n",
       "    </tr>\n",
       "    <tr>\n",
       "      <th>...</th>\n",
       "      <td>...</td>\n",
       "      <td>...</td>\n",
       "      <td>...</td>\n",
       "      <td>...</td>\n",
       "      <td>...</td>\n",
       "      <td>...</td>\n",
       "      <td>...</td>\n",
       "      <td>...</td>\n",
       "      <td>...</td>\n",
       "      <td>...</td>\n",
       "      <td>...</td>\n",
       "      <td>...</td>\n",
       "      <td>...</td>\n",
       "    </tr>\n",
       "    <tr>\n",
       "      <th>10836</th>\n",
       "      <td>Sya9a Maroc - FR</td>\n",
       "      <td>FAMILY</td>\n",
       "      <td>4.5</td>\n",
       "      <td>38</td>\n",
       "      <td>53M</td>\n",
       "      <td>5,000+</td>\n",
       "      <td>Free</td>\n",
       "      <td>0</td>\n",
       "      <td>Everyone</td>\n",
       "      <td>Education</td>\n",
       "      <td>July 25, 2017</td>\n",
       "      <td>1.48</td>\n",
       "      <td>4.1 and up</td>\n",
       "    </tr>\n",
       "    <tr>\n",
       "      <th>10837</th>\n",
       "      <td>Fr. Mike Schmitz Audio Teachings</td>\n",
       "      <td>FAMILY</td>\n",
       "      <td>5.0</td>\n",
       "      <td>4</td>\n",
       "      <td>3.6M</td>\n",
       "      <td>100+</td>\n",
       "      <td>Free</td>\n",
       "      <td>0</td>\n",
       "      <td>Everyone</td>\n",
       "      <td>Education</td>\n",
       "      <td>July 6, 2018</td>\n",
       "      <td>1.0</td>\n",
       "      <td>4.1 and up</td>\n",
       "    </tr>\n",
       "    <tr>\n",
       "      <th>10838</th>\n",
       "      <td>Parkinson Exercices FR</td>\n",
       "      <td>MEDICAL</td>\n",
       "      <td>NaN</td>\n",
       "      <td>3</td>\n",
       "      <td>9.5M</td>\n",
       "      <td>1,000+</td>\n",
       "      <td>Free</td>\n",
       "      <td>0</td>\n",
       "      <td>Everyone</td>\n",
       "      <td>Medical</td>\n",
       "      <td>January 20, 2017</td>\n",
       "      <td>1.0</td>\n",
       "      <td>2.2 and up</td>\n",
       "    </tr>\n",
       "    <tr>\n",
       "      <th>10839</th>\n",
       "      <td>The SCP Foundation DB fr nn5n</td>\n",
       "      <td>BOOKS_AND_REFERENCE</td>\n",
       "      <td>4.5</td>\n",
       "      <td>114</td>\n",
       "      <td>Varies with device</td>\n",
       "      <td>1,000+</td>\n",
       "      <td>Free</td>\n",
       "      <td>0</td>\n",
       "      <td>Mature 17+</td>\n",
       "      <td>Books &amp; Reference</td>\n",
       "      <td>January 19, 2015</td>\n",
       "      <td>Varies with device</td>\n",
       "      <td>Varies with device</td>\n",
       "    </tr>\n",
       "    <tr>\n",
       "      <th>10840</th>\n",
       "      <td>iHoroscope - 2018 Daily Horoscope &amp; Astrology</td>\n",
       "      <td>LIFESTYLE</td>\n",
       "      <td>4.5</td>\n",
       "      <td>398307</td>\n",
       "      <td>19M</td>\n",
       "      <td>10,000,000+</td>\n",
       "      <td>Free</td>\n",
       "      <td>0</td>\n",
       "      <td>Everyone</td>\n",
       "      <td>Lifestyle</td>\n",
       "      <td>July 25, 2018</td>\n",
       "      <td>Varies with device</td>\n",
       "      <td>Varies with device</td>\n",
       "    </tr>\n",
       "  </tbody>\n",
       "</table>\n",
       "<p>10841 rows × 13 columns</p>\n",
       "</div>"
      ],
      "text/plain": [
       "                                                     App             Category  \\\n",
       "0         Photo Editor & Candy Camera & Grid & ScrapBook       ART_AND_DESIGN   \n",
       "1                                    Coloring book moana       ART_AND_DESIGN   \n",
       "2      U Launcher Lite – FREE Live Cool Themes, Hide ...       ART_AND_DESIGN   \n",
       "3                                  Sketch - Draw & Paint       ART_AND_DESIGN   \n",
       "4                  Pixel Draw - Number Art Coloring Book       ART_AND_DESIGN   \n",
       "...                                                  ...                  ...   \n",
       "10836                                   Sya9a Maroc - FR               FAMILY   \n",
       "10837                   Fr. Mike Schmitz Audio Teachings               FAMILY   \n",
       "10838                             Parkinson Exercices FR              MEDICAL   \n",
       "10839                      The SCP Foundation DB fr nn5n  BOOKS_AND_REFERENCE   \n",
       "10840      iHoroscope - 2018 Daily Horoscope & Astrology            LIFESTYLE   \n",
       "\n",
       "       Rating Reviews                Size     Installs  Type Price  \\\n",
       "0         4.1     159                 19M      10,000+  Free     0   \n",
       "1         3.9     967                 14M     500,000+  Free     0   \n",
       "2         4.7   87510                8.7M   5,000,000+  Free     0   \n",
       "3         4.5  215644                 25M  50,000,000+  Free     0   \n",
       "4         4.3     967                2.8M     100,000+  Free     0   \n",
       "...       ...     ...                 ...          ...   ...   ...   \n",
       "10836     4.5      38                 53M       5,000+  Free     0   \n",
       "10837     5.0       4                3.6M         100+  Free     0   \n",
       "10838     NaN       3                9.5M       1,000+  Free     0   \n",
       "10839     4.5     114  Varies with device       1,000+  Free     0   \n",
       "10840     4.5  398307                 19M  10,000,000+  Free     0   \n",
       "\n",
       "      Content Rating                     Genres      Last Updated  \\\n",
       "0           Everyone               Art & Design   January 7, 2018   \n",
       "1           Everyone  Art & Design;Pretend Play  January 15, 2018   \n",
       "2           Everyone               Art & Design    August 1, 2018   \n",
       "3               Teen               Art & Design      June 8, 2018   \n",
       "4           Everyone    Art & Design;Creativity     June 20, 2018   \n",
       "...              ...                        ...               ...   \n",
       "10836       Everyone                  Education     July 25, 2017   \n",
       "10837       Everyone                  Education      July 6, 2018   \n",
       "10838       Everyone                    Medical  January 20, 2017   \n",
       "10839     Mature 17+          Books & Reference  January 19, 2015   \n",
       "10840       Everyone                  Lifestyle     July 25, 2018   \n",
       "\n",
       "              Current Ver         Android Ver  \n",
       "0                   1.0.0        4.0.3 and up  \n",
       "1                   2.0.0        4.0.3 and up  \n",
       "2                   1.2.4        4.0.3 and up  \n",
       "3      Varies with device          4.2 and up  \n",
       "4                     1.1          4.4 and up  \n",
       "...                   ...                 ...  \n",
       "10836                1.48          4.1 and up  \n",
       "10837                 1.0          4.1 and up  \n",
       "10838                 1.0          2.2 and up  \n",
       "10839  Varies with device  Varies with device  \n",
       "10840  Varies with device  Varies with device  \n",
       "\n",
       "[10841 rows x 13 columns]"
      ]
     },
     "execution_count": 182,
     "metadata": {},
     "output_type": "execute_result"
    }
   ],
   "source": [
    "df"
   ]
  },
  {
   "cell_type": "code",
   "execution_count": 183,
   "metadata": {},
   "outputs": [
    {
     "name": "stdout",
     "output_type": "stream",
     "text": [
      "<class 'pandas.core.frame.DataFrame'>\n",
      "RangeIndex: 10841 entries, 0 to 10840\n",
      "Data columns (total 13 columns):\n",
      " #   Column          Non-Null Count  Dtype  \n",
      "---  ------          --------------  -----  \n",
      " 0   App             10841 non-null  object \n",
      " 1   Category        10841 non-null  object \n",
      " 2   Rating          9367 non-null   float64\n",
      " 3   Reviews         10841 non-null  object \n",
      " 4   Size            10841 non-null  object \n",
      " 5   Installs        10841 non-null  object \n",
      " 6   Type            10840 non-null  object \n",
      " 7   Price           10841 non-null  object \n",
      " 8   Content Rating  10840 non-null  object \n",
      " 9   Genres          10841 non-null  object \n",
      " 10  Last Updated    10841 non-null  object \n",
      " 11  Current Ver     10833 non-null  object \n",
      " 12  Android Ver     10838 non-null  object \n",
      "dtypes: float64(1), object(12)\n",
      "memory usage: 1.1+ MB\n"
     ]
    }
   ],
   "source": [
    "df.info()"
   ]
  },
  {
   "cell_type": "markdown",
   "metadata": {},
   "source": [
    "* rating , type , content rating, current version and android version has null values\n",
    "* except rating all are having object data type "
   ]
  },
  {
   "cell_type": "markdown",
   "metadata": {},
   "source": [
    "# EDA"
   ]
  },
  {
   "cell_type": "code",
   "execution_count": 184,
   "metadata": {},
   "outputs": [
    {
     "data": {
      "text/plain": [
       "array(['Photo Editor & Candy Camera & Grid & ScrapBook',\n",
       "       'Coloring book moana',\n",
       "       'U Launcher Lite – FREE Live Cool Themes, Hide Apps', ...,\n",
       "       'Parkinson Exercices FR', 'The SCP Foundation DB fr nn5n',\n",
       "       'iHoroscope - 2018 Daily Horoscope & Astrology'], dtype=object)"
      ]
     },
     "execution_count": 184,
     "metadata": {},
     "output_type": "execute_result"
    }
   ],
   "source": [
    "df.App.unique()"
   ]
  },
  {
   "cell_type": "code",
   "execution_count": 185,
   "metadata": {},
   "outputs": [
    {
     "data": {
      "text/plain": [
       "9660"
      ]
     },
     "execution_count": 185,
     "metadata": {},
     "output_type": "execute_result"
    }
   ],
   "source": [
    "df.App.nunique()"
   ]
  },
  {
   "cell_type": "markdown",
   "metadata": {},
   "source": [
    "* we can't convert this much unique value to numeric "
   ]
  },
  {
   "cell_type": "code",
   "execution_count": 186,
   "metadata": {},
   "outputs": [
    {
     "data": {
      "text/plain": [
       "array(['ART_AND_DESIGN', 'AUTO_AND_VEHICLES', 'BEAUTY',\n",
       "       'BOOKS_AND_REFERENCE', 'BUSINESS', 'COMICS', 'COMMUNICATION',\n",
       "       'DATING', 'EDUCATION', 'ENTERTAINMENT', 'EVENTS', 'FINANCE',\n",
       "       'FOOD_AND_DRINK', 'HEALTH_AND_FITNESS', 'HOUSE_AND_HOME',\n",
       "       'LIBRARIES_AND_DEMO', 'LIFESTYLE', 'GAME', 'FAMILY', 'MEDICAL',\n",
       "       'SOCIAL', 'SHOPPING', 'PHOTOGRAPHY', 'SPORTS', 'TRAVEL_AND_LOCAL',\n",
       "       'TOOLS', 'PERSONALIZATION', 'PRODUCTIVITY', 'PARENTING', 'WEATHER',\n",
       "       'VIDEO_PLAYERS', 'NEWS_AND_MAGAZINES', 'MAPS_AND_NAVIGATION',\n",
       "       '1.9'], dtype=object)"
      ]
     },
     "execution_count": 186,
     "metadata": {},
     "output_type": "execute_result"
    }
   ],
   "source": [
    "df.Category.unique()"
   ]
  },
  {
   "cell_type": "code",
   "execution_count": 187,
   "metadata": {},
   "outputs": [
    {
     "data": {
      "text/plain": [
       "34"
      ]
     },
     "execution_count": 187,
     "metadata": {},
     "output_type": "execute_result"
    }
   ],
   "source": [
    "df.Category.nunique()"
   ]
  },
  {
   "cell_type": "code",
   "execution_count": 188,
   "metadata": {},
   "outputs": [
    {
     "data": {
      "text/plain": [
       "FAMILY                 1972\n",
       "GAME                   1144\n",
       "TOOLS                   843\n",
       "MEDICAL                 463\n",
       "BUSINESS                460\n",
       "PRODUCTIVITY            424\n",
       "PERSONALIZATION         392\n",
       "COMMUNICATION           387\n",
       "SPORTS                  384\n",
       "LIFESTYLE               382\n",
       "FINANCE                 366\n",
       "HEALTH_AND_FITNESS      341\n",
       "PHOTOGRAPHY             335\n",
       "SOCIAL                  295\n",
       "NEWS_AND_MAGAZINES      283\n",
       "SHOPPING                260\n",
       "TRAVEL_AND_LOCAL        258\n",
       "DATING                  234\n",
       "BOOKS_AND_REFERENCE     231\n",
       "VIDEO_PLAYERS           175\n",
       "EDUCATION               156\n",
       "ENTERTAINMENT           149\n",
       "MAPS_AND_NAVIGATION     137\n",
       "FOOD_AND_DRINK          127\n",
       "HOUSE_AND_HOME           88\n",
       "LIBRARIES_AND_DEMO       85\n",
       "AUTO_AND_VEHICLES        85\n",
       "WEATHER                  82\n",
       "ART_AND_DESIGN           65\n",
       "EVENTS                   64\n",
       "PARENTING                60\n",
       "COMICS                   60\n",
       "BEAUTY                   53\n",
       "1.9                       1\n",
       "Name: Category, dtype: int64"
      ]
     },
     "execution_count": 188,
     "metadata": {},
     "output_type": "execute_result"
    }
   ],
   "source": [
    "df.Category.value_counts()"
   ]
  },
  {
   "cell_type": "markdown",
   "metadata": {},
   "source": [
    "* we can see here that it has inopropriate data \"1.9\"\n",
    "* and we can change the these values to numeric as we have only 34 unique values\n",
    "* we can even create a seperate dataframe containg the App respective of the category\n",
    "* and we can drop the App columns"
   ]
  },
  {
   "cell_type": "code",
   "execution_count": 189,
   "metadata": {},
   "outputs": [
    {
     "data": {
      "text/plain": [
       "1474"
      ]
     },
     "execution_count": 189,
     "metadata": {},
     "output_type": "execute_result"
    }
   ],
   "source": [
    "df.Rating.isnull().sum()"
   ]
  },
  {
   "cell_type": "code",
   "execution_count": 190,
   "metadata": {},
   "outputs": [
    {
     "data": {
      "text/plain": [
       "4.4     1109\n",
       "4.3     1076\n",
       "4.5     1038\n",
       "4.2      952\n",
       "4.6      823\n",
       "4.1      708\n",
       "4.0      568\n",
       "4.7      499\n",
       "3.9      386\n",
       "3.8      303\n",
       "5.0      274\n",
       "3.7      239\n",
       "4.8      234\n",
       "3.6      174\n",
       "3.5      163\n",
       "3.4      128\n",
       "3.3      102\n",
       "4.9       87\n",
       "3.0       83\n",
       "3.1       69\n",
       "3.2       64\n",
       "2.9       45\n",
       "2.8       42\n",
       "2.7       25\n",
       "2.6       25\n",
       "2.5       21\n",
       "2.3       20\n",
       "2.4       19\n",
       "1.0       16\n",
       "2.2       14\n",
       "1.9       13\n",
       "2.0       12\n",
       "1.7        8\n",
       "1.8        8\n",
       "2.1        8\n",
       "1.6        4\n",
       "1.4        3\n",
       "1.5        3\n",
       "1.2        1\n",
       "19.0       1\n",
       "Name: Rating, dtype: int64"
      ]
     },
     "execution_count": 190,
     "metadata": {},
     "output_type": "execute_result"
    }
   ],
   "source": [
    "df.Rating.value_counts()"
   ]
  },
  {
   "cell_type": "code",
   "execution_count": 191,
   "metadata": {},
   "outputs": [
    {
     "data": {
      "text/plain": [
       "count    9367.000000\n",
       "mean        4.193338\n",
       "std         0.537431\n",
       "min         1.000000\n",
       "25%         4.000000\n",
       "50%         4.300000\n",
       "75%         4.500000\n",
       "max        19.000000\n",
       "Name: Rating, dtype: float64"
      ]
     },
     "execution_count": 191,
     "metadata": {},
     "output_type": "execute_result"
    }
   ],
   "source": [
    "df.Rating.describe()"
   ]
  },
  {
   "cell_type": "markdown",
   "metadata": {},
   "source": [
    "* we have null vailues in the rating colums\n",
    "* it seems we have a outlier 19 in the ratings column"
   ]
  },
  {
   "cell_type": "code",
   "execution_count": 192,
   "metadata": {},
   "outputs": [
    {
     "data": {
      "text/html": [
       "<div>\n",
       "<style scoped>\n",
       "    .dataframe tbody tr th:only-of-type {\n",
       "        vertical-align: middle;\n",
       "    }\n",
       "\n",
       "    .dataframe tbody tr th {\n",
       "        vertical-align: top;\n",
       "    }\n",
       "\n",
       "    .dataframe thead th {\n",
       "        text-align: right;\n",
       "    }\n",
       "</style>\n",
       "<table border=\"1\" class=\"dataframe\">\n",
       "  <thead>\n",
       "    <tr style=\"text-align: right;\">\n",
       "      <th></th>\n",
       "      <th>App</th>\n",
       "      <th>Category</th>\n",
       "      <th>Rating</th>\n",
       "      <th>Reviews</th>\n",
       "      <th>Size</th>\n",
       "      <th>Installs</th>\n",
       "      <th>Type</th>\n",
       "      <th>Price</th>\n",
       "      <th>Content Rating</th>\n",
       "      <th>Genres</th>\n",
       "      <th>Last Updated</th>\n",
       "      <th>Current Ver</th>\n",
       "      <th>Android Ver</th>\n",
       "    </tr>\n",
       "  </thead>\n",
       "  <tbody>\n",
       "    <tr>\n",
       "      <th>10472</th>\n",
       "      <td>Life Made WI-Fi Touchscreen Photo Frame</td>\n",
       "      <td>1.9</td>\n",
       "      <td>19.0</td>\n",
       "      <td>3.0M</td>\n",
       "      <td>1,000+</td>\n",
       "      <td>Free</td>\n",
       "      <td>0</td>\n",
       "      <td>Everyone</td>\n",
       "      <td>NaN</td>\n",
       "      <td>February 11, 2018</td>\n",
       "      <td>1.0.19</td>\n",
       "      <td>4.0 and up</td>\n",
       "      <td>NaN</td>\n",
       "    </tr>\n",
       "  </tbody>\n",
       "</table>\n",
       "</div>"
      ],
      "text/plain": [
       "                                           App Category  Rating Reviews  \\\n",
       "10472  Life Made WI-Fi Touchscreen Photo Frame      1.9    19.0    3.0M   \n",
       "\n",
       "         Size Installs Type     Price Content Rating             Genres  \\\n",
       "10472  1,000+     Free    0  Everyone            NaN  February 11, 2018   \n",
       "\n",
       "      Last Updated Current Ver Android Ver  \n",
       "10472       1.0.19  4.0 and up         NaN  "
      ]
     },
     "execution_count": 192,
     "metadata": {},
     "output_type": "execute_result"
    }
   ],
   "source": [
    "df[df['Rating'] == 19]"
   ]
  },
  {
   "cell_type": "markdown",
   "metadata": {},
   "source": [
    "* it seems the datapoint has shhifted one column before from the category\n",
    "* see it's also contains rating in the category.\n",
    "* we have to shift the values one step behind from category we should not shift App value"
   ]
  },
  {
   "cell_type": "code",
   "execution_count": 193,
   "metadata": {},
   "outputs": [],
   "source": [
    "df.iloc[10472] = df.iloc[10472].shift()\n",
    "# shiftng values to the right side of the datapoint"
   ]
  },
  {
   "cell_type": "code",
   "execution_count": 194,
   "metadata": {},
   "outputs": [
    {
     "data": {
      "text/plain": [
       "App                                                   NaN\n",
       "Category          Life Made WI-Fi Touchscreen Photo Frame\n",
       "Rating                                                1.9\n",
       "Reviews                                              19.0\n",
       "Size                                                 3.0M\n",
       "Installs                                           1,000+\n",
       "Type                                                 Free\n",
       "Price                                                   0\n",
       "Content Rating                                   Everyone\n",
       "Genres                                                NaN\n",
       "Last Updated                            February 11, 2018\n",
       "Current Ver                                        1.0.19\n",
       "Android Ver                                    4.0 and up\n",
       "Name: 10472, dtype: object"
      ]
     },
     "execution_count": 194,
     "metadata": {},
     "output_type": "execute_result"
    }
   ],
   "source": [
    "df.iloc[10472]"
   ]
  },
  {
   "cell_type": "markdown",
   "metadata": {},
   "source": [
    "* the App value also shifted to right"
   ]
  },
  {
   "cell_type": "code",
   "execution_count": 195,
   "metadata": {},
   "outputs": [
    {
     "data": {
      "text/plain": [
       "1"
      ]
     },
     "execution_count": 195,
     "metadata": {},
     "output_type": "execute_result"
    }
   ],
   "source": [
    "df.App.isna().sum()"
   ]
  },
  {
   "cell_type": "code",
   "execution_count": 196,
   "metadata": {},
   "outputs": [],
   "source": [
    "df.App.fillna(\"Life Made WI-Fi Touchscreen Photo Frame\" , inplace=True)"
   ]
  },
  {
   "cell_type": "code",
   "execution_count": 197,
   "metadata": {},
   "outputs": [
    {
     "data": {
      "text/plain": [
       "App               Life Made WI-Fi Touchscreen Photo Frame\n",
       "Category          Life Made WI-Fi Touchscreen Photo Frame\n",
       "Rating                                                1.9\n",
       "Reviews                                              19.0\n",
       "Size                                                 3.0M\n",
       "Installs                                           1,000+\n",
       "Type                                                 Free\n",
       "Price                                                   0\n",
       "Content Rating                                   Everyone\n",
       "Genres                                                NaN\n",
       "Last Updated                            February 11, 2018\n",
       "Current Ver                                        1.0.19\n",
       "Android Ver                                    4.0 and up\n",
       "Name: 10472, dtype: object"
      ]
     },
     "execution_count": 197,
     "metadata": {},
     "output_type": "execute_result"
    }
   ],
   "source": [
    "df.iloc[10472]"
   ]
  },
  {
   "cell_type": "code",
   "execution_count": 198,
   "metadata": {},
   "outputs": [
    {
     "data": {
      "text/plain": [
       "FAMILY                                     1972\n",
       "GAME                                       1144\n",
       "TOOLS                                       843\n",
       "MEDICAL                                     463\n",
       "BUSINESS                                    460\n",
       "PRODUCTIVITY                                424\n",
       "PERSONALIZATION                             392\n",
       "COMMUNICATION                               387\n",
       "SPORTS                                      384\n",
       "LIFESTYLE                                   382\n",
       "FINANCE                                     366\n",
       "HEALTH_AND_FITNESS                          341\n",
       "PHOTOGRAPHY                                 335\n",
       "SOCIAL                                      295\n",
       "NEWS_AND_MAGAZINES                          283\n",
       "SHOPPING                                    260\n",
       "TRAVEL_AND_LOCAL                            258\n",
       "DATING                                      234\n",
       "BOOKS_AND_REFERENCE                         231\n",
       "VIDEO_PLAYERS                               175\n",
       "EDUCATION                                   156\n",
       "ENTERTAINMENT                               149\n",
       "MAPS_AND_NAVIGATION                         137\n",
       "FOOD_AND_DRINK                              127\n",
       "HOUSE_AND_HOME                               88\n",
       "LIBRARIES_AND_DEMO                           85\n",
       "AUTO_AND_VEHICLES                            85\n",
       "WEATHER                                      82\n",
       "ART_AND_DESIGN                               65\n",
       "EVENTS                                       64\n",
       "PARENTING                                    60\n",
       "COMICS                                       60\n",
       "BEAUTY                                       53\n",
       "Life Made WI-Fi Touchscreen Photo Frame       1\n",
       "Name: Category, dtype: int64"
      ]
     },
     "execution_count": 198,
     "metadata": {},
     "output_type": "execute_result"
    }
   ],
   "source": [
    "df.Category.value_counts()"
   ]
  },
  {
   "cell_type": "markdown",
   "metadata": {},
   "source": [
    "* we have to fill a category value to the data point which suits it"
   ]
  },
  {
   "cell_type": "code",
   "execution_count": 199,
   "metadata": {},
   "outputs": [],
   "source": [
    "# to find the best category for the null we are checking the other App name containg the same words and storing the category of the same word\n",
    "s = []                                     # empty list to store the data of the category \n",
    "for i in (df.App[10472].split()):          # this function splita the app name into list seperated between the space and i get the value one by one\n",
    "    for j,k in zip(df.App, df.Category):   # loop for the app name aand the category\n",
    "        if i in j:                         # condition statement that the seperated value in the app name \n",
    "            s.append(str(k))               # if the condition is true then append the category of the patrticular app name\n",
    "s = pd.DataFrame(s)                        # creating a data frame to use the value_counts in the list"
   ]
  },
  {
   "cell_type": "code",
   "execution_count": 200,
   "metadata": {},
   "outputs": [
    {
     "data": {
      "text/plain": [
       "PHOTOGRAPHY                                138\n",
       "FAMILY                                      16\n",
       "ART_AND_DESIGN                              10\n",
       "TOOLS                                        7\n",
       "SHOPPING                                     7\n",
       "Life Made WI-Fi Touchscreen Photo Frame      6\n",
       "SOCIAL                                       5\n",
       "EDUCATION                                    5\n",
       "PERSONALIZATION                              4\n",
       "VIDEO_PLAYERS                                4\n",
       "HEALTH_AND_FITNESS                           3\n",
       "BEAUTY                                       3\n",
       "EVENTS                                       3\n",
       "ENTERTAINMENT                                3\n",
       "BOOKS_AND_REFERENCE                          3\n",
       "LIFESTYLE                                    3\n",
       "GAME                                         2\n",
       "MEDICAL                                      2\n",
       "NEWS_AND_MAGAZINES                           2\n",
       "PRODUCTIVITY                                 2\n",
       "DATING                                       2\n",
       "COMICS                                       2\n",
       "HOUSE_AND_HOME                               1\n",
       "PARENTING                                    1\n",
       "dtype: int64"
      ]
     },
     "execution_count": 200,
     "metadata": {},
     "output_type": "execute_result"
    }
   ],
   "source": [
    "s.value_counts()"
   ]
  },
  {
   "cell_type": "markdown",
   "metadata": {},
   "source": [
    "* we can clearly see that photograpy suits its best "
   ]
  },
  {
   "cell_type": "code",
   "execution_count": 201,
   "metadata": {},
   "outputs": [],
   "source": [
    "df.Category.replace('Life Made WI-Fi Touchscreen Photo Frame', 'PHOTOGRAPHY', inplace=True)"
   ]
  },
  {
   "cell_type": "code",
   "execution_count": 202,
   "metadata": {},
   "outputs": [
    {
     "data": {
      "text/plain": [
       "App               Life Made WI-Fi Touchscreen Photo Frame\n",
       "Category                                      PHOTOGRAPHY\n",
       "Rating                                                1.9\n",
       "Reviews                                              19.0\n",
       "Size                                                 3.0M\n",
       "Installs                                           1,000+\n",
       "Type                                                 Free\n",
       "Price                                                   0\n",
       "Content Rating                                   Everyone\n",
       "Genres                                                NaN\n",
       "Last Updated                            February 11, 2018\n",
       "Current Ver                                        1.0.19\n",
       "Android Ver                                    4.0 and up\n",
       "Name: 10472, dtype: object"
      ]
     },
     "execution_count": 202,
     "metadata": {},
     "output_type": "execute_result"
    }
   ],
   "source": [
    "df.iloc[10472]"
   ]
  },
  {
   "cell_type": "code",
   "execution_count": 203,
   "metadata": {},
   "outputs": [
    {
     "data": {
      "text/plain": [
       "1474"
      ]
     },
     "execution_count": 203,
     "metadata": {},
     "output_type": "execute_result"
    }
   ],
   "source": [
    "df.Rating.isna().sum()"
   ]
  },
  {
   "cell_type": "markdown",
   "metadata": {},
   "source": [
    "* we are having 1474 null values \n",
    "* filling the null values with the mean of the Rating column"
   ]
  },
  {
   "cell_type": "code",
   "execution_count": 204,
   "metadata": {},
   "outputs": [
    {
     "data": {
      "text/plain": [
       "count     9367.0\n",
       "unique      40.0\n",
       "top          4.4\n",
       "freq      1109.0\n",
       "Name: Rating, dtype: float64"
      ]
     },
     "execution_count": 204,
     "metadata": {},
     "output_type": "execute_result"
    }
   ],
   "source": [
    "df.Rating.describe()"
   ]
  },
  {
   "cell_type": "code",
   "execution_count": 205,
   "metadata": {},
   "outputs": [
    {
     "data": {
      "text/plain": [
       "dtype('O')"
      ]
     },
     "execution_count": 205,
     "metadata": {},
     "output_type": "execute_result"
    }
   ],
   "source": [
    "df.Rating.dtype"
   ]
  },
  {
   "cell_type": "markdown",
   "metadata": {},
   "source": [
    "* after shifting the dtype changed to object we have change that to float"
   ]
  },
  {
   "cell_type": "code",
   "execution_count": 206,
   "metadata": {},
   "outputs": [],
   "source": [
    "df['Rating'] = df['Rating'].astype(float)"
   ]
  },
  {
   "cell_type": "code",
   "execution_count": 207,
   "metadata": {},
   "outputs": [
    {
     "data": {
      "text/plain": [
       "count    9367.000000\n",
       "mean        4.191513\n",
       "std         0.515735\n",
       "min         1.000000\n",
       "25%         4.000000\n",
       "50%         4.300000\n",
       "75%         4.500000\n",
       "max         5.000000\n",
       "Name: Rating, dtype: float64"
      ]
     },
     "execution_count": 207,
     "metadata": {},
     "output_type": "execute_result"
    }
   ],
   "source": [
    "df.Rating.describe()"
   ]
  },
  {
   "cell_type": "code",
   "execution_count": 208,
   "metadata": {},
   "outputs": [],
   "source": [
    "df.Rating.fillna(df.Rating.mean(), inplace=True)"
   ]
  },
  {
   "cell_type": "code",
   "execution_count": 209,
   "metadata": {},
   "outputs": [
    {
     "data": {
      "text/plain": [
       "0         596\n",
       "1         272\n",
       "2         214\n",
       "3         175\n",
       "4         137\n",
       "         ... \n",
       "342912      1\n",
       "4272        1\n",
       "5517        1\n",
       "4057        1\n",
       "398307      1\n",
       "Name: Reviews, Length: 6002, dtype: int64"
      ]
     },
     "execution_count": 209,
     "metadata": {},
     "output_type": "execute_result"
    }
   ],
   "source": [
    "df.Reviews.value_counts()"
   ]
  },
  {
   "cell_type": "code",
   "execution_count": 210,
   "metadata": {},
   "outputs": [
    {
     "name": "stdout",
     "output_type": "stream",
     "text": [
      "<class 'pandas.core.frame.DataFrame'>\n",
      "RangeIndex: 10841 entries, 0 to 10840\n",
      "Data columns (total 13 columns):\n",
      " #   Column          Non-Null Count  Dtype  \n",
      "---  ------          --------------  -----  \n",
      " 0   App             10841 non-null  object \n",
      " 1   Category        10841 non-null  object \n",
      " 2   Rating          10841 non-null  float64\n",
      " 3   Reviews         10841 non-null  object \n",
      " 4   Size            10841 non-null  object \n",
      " 5   Installs        10841 non-null  object \n",
      " 6   Type            10840 non-null  object \n",
      " 7   Price           10841 non-null  object \n",
      " 8   Content Rating  10841 non-null  object \n",
      " 9   Genres          10840 non-null  object \n",
      " 10  Last Updated    10841 non-null  object \n",
      " 11  Current Ver     10833 non-null  object \n",
      " 12  Android Ver     10839 non-null  object \n",
      "dtypes: float64(1), object(12)\n",
      "memory usage: 1.1+ MB\n"
     ]
    }
   ],
   "source": [
    "df.info()"
   ]
  },
  {
   "cell_type": "code",
   "execution_count": 211,
   "metadata": {},
   "outputs": [
    {
     "data": {
      "text/plain": [
       "count     10841\n",
       "unique     6002\n",
       "top           0\n",
       "freq        596\n",
       "Name: Reviews, dtype: object"
      ]
     },
     "execution_count": 211,
     "metadata": {},
     "output_type": "execute_result"
    }
   ],
   "source": [
    "df.Reviews.describe()"
   ]
  },
  {
   "cell_type": "code",
   "execution_count": 212,
   "metadata": {},
   "outputs": [],
   "source": [
    "df.Reviews = df.Reviews.astype(np.int64)"
   ]
  },
  {
   "cell_type": "code",
   "execution_count": 213,
   "metadata": {},
   "outputs": [
    {
     "data": {
      "text/plain": [
       "count    1.084100e+04\n",
       "mean     4.441119e+05\n",
       "std      2.927629e+06\n",
       "min      0.000000e+00\n",
       "25%      3.800000e+01\n",
       "50%      2.094000e+03\n",
       "75%      5.476800e+04\n",
       "max      7.815831e+07\n",
       "Name: Reviews, dtype: float64"
      ]
     },
     "execution_count": 213,
     "metadata": {},
     "output_type": "execute_result"
    }
   ],
   "source": [
    "df.Reviews.describe()"
   ]
  },
  {
   "cell_type": "code",
   "execution_count": 214,
   "metadata": {},
   "outputs": [
    {
     "data": {
      "text/plain": [
       "array(['19M', '14M', '8.7M', '25M', '2.8M', '5.6M', '29M', '33M', '3.1M',\n",
       "       '28M', '12M', '20M', '21M', '37M', '2.7M', '5.5M', '17M', '39M',\n",
       "       '31M', '4.2M', '7.0M', '23M', '6.0M', '6.1M', '4.6M', '9.2M',\n",
       "       '5.2M', '11M', '24M', 'Varies with device', '9.4M', '15M', '10M',\n",
       "       '1.2M', '26M', '8.0M', '7.9M', '56M', '57M', '35M', '54M', '201k',\n",
       "       '3.6M', '5.7M', '8.6M', '2.4M', '27M', '2.5M', '16M', '3.4M',\n",
       "       '8.9M', '3.9M', '2.9M', '38M', '32M', '5.4M', '18M', '1.1M',\n",
       "       '2.2M', '4.5M', '9.8M', '52M', '9.0M', '6.7M', '30M', '2.6M',\n",
       "       '7.1M', '3.7M', '22M', '7.4M', '6.4M', '3.2M', '8.2M', '9.9M',\n",
       "       '4.9M', '9.5M', '5.0M', '5.9M', '13M', '73M', '6.8M', '3.5M',\n",
       "       '4.0M', '2.3M', '7.2M', '2.1M', '42M', '7.3M', '9.1M', '55M',\n",
       "       '23k', '6.5M', '1.5M', '7.5M', '51M', '41M', '48M', '8.5M', '46M',\n",
       "       '8.3M', '4.3M', '4.7M', '3.3M', '40M', '7.8M', '8.8M', '6.6M',\n",
       "       '5.1M', '61M', '66M', '79k', '8.4M', '118k', '44M', '695k', '1.6M',\n",
       "       '6.2M', '18k', '53M', '1.4M', '3.0M', '5.8M', '3.8M', '9.6M',\n",
       "       '45M', '63M', '49M', '77M', '4.4M', '4.8M', '70M', '6.9M', '9.3M',\n",
       "       '10.0M', '8.1M', '36M', '84M', '97M', '2.0M', '1.9M', '1.8M',\n",
       "       '5.3M', '47M', '556k', '526k', '76M', '7.6M', '59M', '9.7M', '78M',\n",
       "       '72M', '43M', '7.7M', '6.3M', '334k', '34M', '93M', '65M', '79M',\n",
       "       '100M', '58M', '50M', '68M', '64M', '67M', '60M', '94M', '232k',\n",
       "       '99M', '624k', '95M', '8.5k', '41k', '292k', '11k', '80M', '1.7M',\n",
       "       '74M', '62M', '69M', '75M', '98M', '85M', '82M', '96M', '87M',\n",
       "       '71M', '86M', '91M', '81M', '92M', '83M', '88M', '704k', '862k',\n",
       "       '899k', '378k', '266k', '375k', '1.3M', '975k', '980k', '4.1M',\n",
       "       '89M', '696k', '544k', '525k', '920k', '779k', '853k', '720k',\n",
       "       '713k', '772k', '318k', '58k', '241k', '196k', '857k', '51k',\n",
       "       '953k', '865k', '251k', '930k', '540k', '313k', '746k', '203k',\n",
       "       '26k', '314k', '239k', '371k', '220k', '730k', '756k', '91k',\n",
       "       '293k', '17k', '74k', '14k', '317k', '78k', '924k', '902k', '818k',\n",
       "       '81k', '939k', '169k', '45k', '475k', '965k', '90M', '545k', '61k',\n",
       "       '283k', '655k', '714k', '93k', '872k', '121k', '322k', '1.0M',\n",
       "       '976k', '172k', '238k', '549k', '206k', '954k', '444k', '717k',\n",
       "       '210k', '609k', '308k', '705k', '306k', '904k', '473k', '175k',\n",
       "       '350k', '383k', '454k', '421k', '70k', '812k', '442k', '842k',\n",
       "       '417k', '412k', '459k', '478k', '335k', '782k', '721k', '430k',\n",
       "       '429k', '192k', '200k', '460k', '728k', '496k', '816k', '414k',\n",
       "       '506k', '887k', '613k', '243k', '569k', '778k', '683k', '592k',\n",
       "       '319k', '186k', '840k', '647k', '191k', '373k', '437k', '598k',\n",
       "       '716k', '585k', '982k', '222k', '219k', '55k', '948k', '323k',\n",
       "       '691k', '511k', '951k', '963k', '25k', '554k', '351k', '27k',\n",
       "       '82k', '208k', '913k', '514k', '551k', '29k', '103k', '898k',\n",
       "       '743k', '116k', '153k', '209k', '353k', '499k', '173k', '597k',\n",
       "       '809k', '122k', '411k', '400k', '801k', '787k', '237k', '50k',\n",
       "       '643k', '986k', '97k', '516k', '837k', '780k', '961k', '269k',\n",
       "       '20k', '498k', '600k', '749k', '642k', '881k', '72k', '656k',\n",
       "       '601k', '221k', '228k', '108k', '940k', '176k', '33k', '663k',\n",
       "       '34k', '942k', '259k', '164k', '458k', '245k', '629k', '28k',\n",
       "       '288k', '775k', '785k', '636k', '916k', '994k', '309k', '485k',\n",
       "       '914k', '903k', '608k', '500k', '54k', '562k', '847k', '957k',\n",
       "       '688k', '811k', '270k', '48k', '329k', '523k', '921k', '874k',\n",
       "       '981k', '784k', '280k', '24k', '518k', '754k', '892k', '154k',\n",
       "       '860k', '364k', '387k', '626k', '161k', '879k', '39k', '970k',\n",
       "       '170k', '141k', '160k', '144k', '143k', '190k', '376k', '193k',\n",
       "       '246k', '73k', '658k', '992k', '253k', '420k', '404k', '470k',\n",
       "       '226k', '240k', '89k', '234k', '257k', '861k', '467k', '157k',\n",
       "       '44k', '676k', '67k', '552k', '885k', '1020k', '582k', '619k'],\n",
       "      dtype=object)"
      ]
     },
     "execution_count": 214,
     "metadata": {},
     "output_type": "execute_result"
    }
   ],
   "source": [
    "df.Size.unique()"
   ]
  },
  {
   "cell_type": "code",
   "execution_count": 215,
   "metadata": {},
   "outputs": [],
   "source": [
    "df.Size.replace(\"Varies with device\", 0, inplace=True)"
   ]
  },
  {
   "cell_type": "code",
   "execution_count": 216,
   "metadata": {},
   "outputs": [
    {
     "data": {
      "text/plain": [
       "array(['19M', '14M', '8.7M', '25M', '2.8M', '5.6M', '29M', '33M', '3.1M',\n",
       "       '28M', '12M', '20M', '21M', '37M', '2.7M', '5.5M', '17M', '39M',\n",
       "       '31M', '4.2M', '7.0M', '23M', '6.0M', '6.1M', '4.6M', '9.2M',\n",
       "       '5.2M', '11M', '24M', 0, '9.4M', '15M', '10M', '1.2M', '26M',\n",
       "       '8.0M', '7.9M', '56M', '57M', '35M', '54M', '201k', '3.6M', '5.7M',\n",
       "       '8.6M', '2.4M', '27M', '2.5M', '16M', '3.4M', '8.9M', '3.9M',\n",
       "       '2.9M', '38M', '32M', '5.4M', '18M', '1.1M', '2.2M', '4.5M',\n",
       "       '9.8M', '52M', '9.0M', '6.7M', '30M', '2.6M', '7.1M', '3.7M',\n",
       "       '22M', '7.4M', '6.4M', '3.2M', '8.2M', '9.9M', '4.9M', '9.5M',\n",
       "       '5.0M', '5.9M', '13M', '73M', '6.8M', '3.5M', '4.0M', '2.3M',\n",
       "       '7.2M', '2.1M', '42M', '7.3M', '9.1M', '55M', '23k', '6.5M',\n",
       "       '1.5M', '7.5M', '51M', '41M', '48M', '8.5M', '46M', '8.3M', '4.3M',\n",
       "       '4.7M', '3.3M', '40M', '7.8M', '8.8M', '6.6M', '5.1M', '61M',\n",
       "       '66M', '79k', '8.4M', '118k', '44M', '695k', '1.6M', '6.2M', '18k',\n",
       "       '53M', '1.4M', '3.0M', '5.8M', '3.8M', '9.6M', '45M', '63M', '49M',\n",
       "       '77M', '4.4M', '4.8M', '70M', '6.9M', '9.3M', '10.0M', '8.1M',\n",
       "       '36M', '84M', '97M', '2.0M', '1.9M', '1.8M', '5.3M', '47M', '556k',\n",
       "       '526k', '76M', '7.6M', '59M', '9.7M', '78M', '72M', '43M', '7.7M',\n",
       "       '6.3M', '334k', '34M', '93M', '65M', '79M', '100M', '58M', '50M',\n",
       "       '68M', '64M', '67M', '60M', '94M', '232k', '99M', '624k', '95M',\n",
       "       '8.5k', '41k', '292k', '11k', '80M', '1.7M', '74M', '62M', '69M',\n",
       "       '75M', '98M', '85M', '82M', '96M', '87M', '71M', '86M', '91M',\n",
       "       '81M', '92M', '83M', '88M', '704k', '862k', '899k', '378k', '266k',\n",
       "       '375k', '1.3M', '975k', '980k', '4.1M', '89M', '696k', '544k',\n",
       "       '525k', '920k', '779k', '853k', '720k', '713k', '772k', '318k',\n",
       "       '58k', '241k', '196k', '857k', '51k', '953k', '865k', '251k',\n",
       "       '930k', '540k', '313k', '746k', '203k', '26k', '314k', '239k',\n",
       "       '371k', '220k', '730k', '756k', '91k', '293k', '17k', '74k', '14k',\n",
       "       '317k', '78k', '924k', '902k', '818k', '81k', '939k', '169k',\n",
       "       '45k', '475k', '965k', '90M', '545k', '61k', '283k', '655k',\n",
       "       '714k', '93k', '872k', '121k', '322k', '1.0M', '976k', '172k',\n",
       "       '238k', '549k', '206k', '954k', '444k', '717k', '210k', '609k',\n",
       "       '308k', '705k', '306k', '904k', '473k', '175k', '350k', '383k',\n",
       "       '454k', '421k', '70k', '812k', '442k', '842k', '417k', '412k',\n",
       "       '459k', '478k', '335k', '782k', '721k', '430k', '429k', '192k',\n",
       "       '200k', '460k', '728k', '496k', '816k', '414k', '506k', '887k',\n",
       "       '613k', '243k', '569k', '778k', '683k', '592k', '319k', '186k',\n",
       "       '840k', '647k', '191k', '373k', '437k', '598k', '716k', '585k',\n",
       "       '982k', '222k', '219k', '55k', '948k', '323k', '691k', '511k',\n",
       "       '951k', '963k', '25k', '554k', '351k', '27k', '82k', '208k',\n",
       "       '913k', '514k', '551k', '29k', '103k', '898k', '743k', '116k',\n",
       "       '153k', '209k', '353k', '499k', '173k', '597k', '809k', '122k',\n",
       "       '411k', '400k', '801k', '787k', '237k', '50k', '643k', '986k',\n",
       "       '97k', '516k', '837k', '780k', '961k', '269k', '20k', '498k',\n",
       "       '600k', '749k', '642k', '881k', '72k', '656k', '601k', '221k',\n",
       "       '228k', '108k', '940k', '176k', '33k', '663k', '34k', '942k',\n",
       "       '259k', '164k', '458k', '245k', '629k', '28k', '288k', '775k',\n",
       "       '785k', '636k', '916k', '994k', '309k', '485k', '914k', '903k',\n",
       "       '608k', '500k', '54k', '562k', '847k', '957k', '688k', '811k',\n",
       "       '270k', '48k', '329k', '523k', '921k', '874k', '981k', '784k',\n",
       "       '280k', '24k', '518k', '754k', '892k', '154k', '860k', '364k',\n",
       "       '387k', '626k', '161k', '879k', '39k', '970k', '170k', '141k',\n",
       "       '160k', '144k', '143k', '190k', '376k', '193k', '246k', '73k',\n",
       "       '658k', '992k', '253k', '420k', '404k', '470k', '226k', '240k',\n",
       "       '89k', '234k', '257k', '861k', '467k', '157k', '44k', '676k',\n",
       "       '67k', '552k', '885k', '1020k', '582k', '619k'], dtype=object)"
      ]
     },
     "execution_count": 216,
     "metadata": {},
     "output_type": "execute_result"
    }
   ],
   "source": [
    "df.Size.unique()"
   ]
  },
  {
   "cell_type": "markdown",
   "metadata": {},
   "source": [
    "* instead of having a mb or kb we can seperate the value from t"
   ]
  },
  {
   "cell_type": "code",
   "execution_count": 217,
   "metadata": {},
   "outputs": [
    {
     "data": {
      "text/plain": [
       "0       1695\n",
       "11M      198\n",
       "12M      196\n",
       "14M      194\n",
       "13M      191\n",
       "        ... \n",
       "430k       1\n",
       "429k       1\n",
       "200k       1\n",
       "460k       1\n",
       "619k       1\n",
       "Name: Size, Length: 461, dtype: int64"
      ]
     },
     "execution_count": 217,
     "metadata": {},
     "output_type": "execute_result"
    }
   ],
   "source": [
    "df.Size.value_counts()"
   ]
  },
  {
   "cell_type": "code",
   "execution_count": 218,
   "metadata": {},
   "outputs": [],
   "source": [
    "memory = []\n",
    "for i in range(len(df.Size)):\n",
    "     try:\n",
    "          d = re.search(\"k|M\", str(df.Size[i]))\n",
    "          memory.append(re.sub(\"\\d|\\.\",\"\",str(df.Size[i])))\n",
    "     except:\n",
    "          memory.append(df.Size[i])"
   ]
  },
  {
   "cell_type": "code",
   "execution_count": 219,
   "metadata": {},
   "outputs": [
    {
     "name": "stderr",
     "output_type": "stream",
     "text": [
      "C:\\Users\\shoba\\AppData\\Local\\Temp/ipykernel_5920/3555852622.py:5: SettingWithCopyWarning: \n",
      "A value is trying to be set on a copy of a slice from a DataFrame\n",
      "\n",
      "See the caveats in the documentation: https://pandas.pydata.org/pandas-docs/stable/user_guide/indexing.html#returning-a-view-versus-a-copy\n",
      "  df.Size[i] = re.sub(\".$\",\"\",str(df.Size[i]))\n"
     ]
    }
   ],
   "source": [
    "for i in range(len(df.Size)):\n",
    "    if df.Size[i] == 0:\n",
    "        pass\n",
    "    else:\n",
    "        df.Size[i] = re.sub(\".$\",\"\",str(df.Size[i]))"
   ]
  },
  {
   "cell_type": "code",
   "execution_count": 220,
   "metadata": {},
   "outputs": [
    {
     "data": {
      "text/plain": [
       "array(['19', '14', '8.7', '25', '2.8', '5.6', '29', '33', '3.1', '28',\n",
       "       '12', '20', '21', '37', '2.7', '5.5', '17', '39', '31', '4.2',\n",
       "       '7.0', '23', '6.0', '6.1', '4.6', '9.2', '5.2', '11', '24', 0,\n",
       "       '9.4', '15', '10', '1.2', '26', '8.0', '7.9', '56', '57', '35',\n",
       "       '54', '201', '3.6', '5.7', '8.6', '2.4', '27', '2.5', '16', '3.4',\n",
       "       '8.9', '3.9', '2.9', '38', '32', '5.4', '18', '1.1', '2.2', '4.5',\n",
       "       '9.8', '52', '9.0', '6.7', '30', '2.6', '7.1', '3.7', '22', '7.4',\n",
       "       '6.4', '3.2', '8.2', '9.9', '4.9', '9.5', '5.0', '5.9', '13', '73',\n",
       "       '6.8', '3.5', '4.0', '2.3', '7.2', '2.1', '42', '7.3', '9.1', '55',\n",
       "       '6.5', '1.5', '7.5', '51', '41', '48', '8.5', '46', '8.3', '4.3',\n",
       "       '4.7', '3.3', '40', '7.8', '8.8', '6.6', '5.1', '61', '66', '79',\n",
       "       '8.4', '118', '44', '695', '1.6', '6.2', '53', '1.4', '3.0', '5.8',\n",
       "       '3.8', '9.6', '45', '63', '49', '77', '4.4', '4.8', '70', '6.9',\n",
       "       '9.3', '10.0', '8.1', '36', '84', '97', '2.0', '1.9', '1.8', '5.3',\n",
       "       '47', '556', '526', '76', '7.6', '59', '9.7', '78', '72', '43',\n",
       "       '7.7', '6.3', '334', '34', '93', '65', '100', '58', '50', '68',\n",
       "       '64', '67', '60', '94', '232', '99', '624', '95', '292', '80',\n",
       "       '1.7', '74', '62', '69', '75', '98', '85', '82', '96', '87', '71',\n",
       "       '86', '91', '81', '92', '83', '88', '704', '862', '899', '378',\n",
       "       '266', '375', '1.3', '975', '980', '4.1', '89', '696', '544',\n",
       "       '525', '920', '779', '853', '720', '713', '772', '318', '241',\n",
       "       '196', '857', '953', '865', '251', '930', '540', '313', '746',\n",
       "       '203', '314', '239', '371', '220', '730', '756', '293', '317',\n",
       "       '924', '902', '818', '939', '169', '475', '965', '90', '545',\n",
       "       '283', '655', '714', '872', '121', '322', '1.0', '976', '172',\n",
       "       '238', '549', '206', '954', '444', '717', '210', '609', '308',\n",
       "       '705', '306', '904', '473', '175', '350', '383', '454', '421',\n",
       "       '812', '442', '842', '417', '412', '459', '478', '335', '782',\n",
       "       '721', '430', '429', '192', '200', '460', '728', '496', '816',\n",
       "       '414', '506', '887', '613', '243', '569', '778', '683', '592',\n",
       "       '319', '186', '840', '647', '191', '373', '437', '598', '716',\n",
       "       '585', '982', '222', '219', '948', '323', '691', '511', '951',\n",
       "       '963', '554', '351', '208', '913', '514', '551', '103', '898',\n",
       "       '743', '116', '153', '209', '353', '499', '173', '597', '809',\n",
       "       '122', '411', '400', '801', '787', '237', '643', '986', '516',\n",
       "       '837', '780', '961', '269', '498', '600', '749', '642', '881',\n",
       "       '656', '601', '221', '228', '108', '940', '176', '663', '942',\n",
       "       '259', '164', '458', '245', '629', '288', '775', '785', '636',\n",
       "       '916', '994', '309', '485', '914', '903', '608', '500', '562',\n",
       "       '847', '957', '688', '811', '270', '329', '523', '921', '874',\n",
       "       '981', '784', '280', '518', '754', '892', '154', '860', '364',\n",
       "       '387', '626', '161', '879', '970', '170', '141', '160', '144',\n",
       "       '143', '190', '376', '193', '246', '658', '992', '253', '420',\n",
       "       '404', '470', '226', '240', '234', '257', '861', '467', '157',\n",
       "       '676', '552', '885', '1020', '582', '619'], dtype=object)"
      ]
     },
     "execution_count": 220,
     "metadata": {},
     "output_type": "execute_result"
    }
   ],
   "source": [
    "df.Size.unique()"
   ]
  },
  {
   "cell_type": "code",
   "execution_count": 221,
   "metadata": {},
   "outputs": [
    {
     "data": {
      "text/plain": [
       "Index(['App', 'Category', 'Rating', 'Reviews', 'Size', 'Installs', 'Type',\n",
       "       'Price', 'Content Rating', 'Genres', 'Last Updated', 'Current Ver',\n",
       "       'Android Ver'],\n",
       "      dtype='object')"
      ]
     },
     "execution_count": 221,
     "metadata": {},
     "output_type": "execute_result"
    }
   ],
   "source": [
    "df.columns"
   ]
  },
  {
   "cell_type": "code",
   "execution_count": 222,
   "metadata": {},
   "outputs": [],
   "source": [
    "df.insert(5, 'Memory',memory)"
   ]
  },
  {
   "cell_type": "code",
   "execution_count": 223,
   "metadata": {},
   "outputs": [
    {
     "data": {
      "text/html": [
       "<div>\n",
       "<style scoped>\n",
       "    .dataframe tbody tr th:only-of-type {\n",
       "        vertical-align: middle;\n",
       "    }\n",
       "\n",
       "    .dataframe tbody tr th {\n",
       "        vertical-align: top;\n",
       "    }\n",
       "\n",
       "    .dataframe thead th {\n",
       "        text-align: right;\n",
       "    }\n",
       "</style>\n",
       "<table border=\"1\" class=\"dataframe\">\n",
       "  <thead>\n",
       "    <tr style=\"text-align: right;\">\n",
       "      <th></th>\n",
       "      <th>App</th>\n",
       "      <th>Category</th>\n",
       "      <th>Rating</th>\n",
       "      <th>Reviews</th>\n",
       "      <th>Size</th>\n",
       "      <th>Memory</th>\n",
       "      <th>Installs</th>\n",
       "      <th>Type</th>\n",
       "      <th>Price</th>\n",
       "      <th>Content Rating</th>\n",
       "      <th>Genres</th>\n",
       "      <th>Last Updated</th>\n",
       "      <th>Current Ver</th>\n",
       "      <th>Android Ver</th>\n",
       "    </tr>\n",
       "  </thead>\n",
       "  <tbody>\n",
       "    <tr>\n",
       "      <th>0</th>\n",
       "      <td>Photo Editor &amp; Candy Camera &amp; Grid &amp; ScrapBook</td>\n",
       "      <td>ART_AND_DESIGN</td>\n",
       "      <td>4.1</td>\n",
       "      <td>159</td>\n",
       "      <td>19</td>\n",
       "      <td>M</td>\n",
       "      <td>10,000+</td>\n",
       "      <td>Free</td>\n",
       "      <td>0</td>\n",
       "      <td>Everyone</td>\n",
       "      <td>Art &amp; Design</td>\n",
       "      <td>January 7, 2018</td>\n",
       "      <td>1.0.0</td>\n",
       "      <td>4.0.3 and up</td>\n",
       "    </tr>\n",
       "    <tr>\n",
       "      <th>1</th>\n",
       "      <td>Coloring book moana</td>\n",
       "      <td>ART_AND_DESIGN</td>\n",
       "      <td>3.9</td>\n",
       "      <td>967</td>\n",
       "      <td>14</td>\n",
       "      <td>M</td>\n",
       "      <td>500,000+</td>\n",
       "      <td>Free</td>\n",
       "      <td>0</td>\n",
       "      <td>Everyone</td>\n",
       "      <td>Art &amp; Design;Pretend Play</td>\n",
       "      <td>January 15, 2018</td>\n",
       "      <td>2.0.0</td>\n",
       "      <td>4.0.3 and up</td>\n",
       "    </tr>\n",
       "    <tr>\n",
       "      <th>2</th>\n",
       "      <td>U Launcher Lite – FREE Live Cool Themes, Hide ...</td>\n",
       "      <td>ART_AND_DESIGN</td>\n",
       "      <td>4.7</td>\n",
       "      <td>87510</td>\n",
       "      <td>8.7</td>\n",
       "      <td>M</td>\n",
       "      <td>5,000,000+</td>\n",
       "      <td>Free</td>\n",
       "      <td>0</td>\n",
       "      <td>Everyone</td>\n",
       "      <td>Art &amp; Design</td>\n",
       "      <td>August 1, 2018</td>\n",
       "      <td>1.2.4</td>\n",
       "      <td>4.0.3 and up</td>\n",
       "    </tr>\n",
       "    <tr>\n",
       "      <th>3</th>\n",
       "      <td>Sketch - Draw &amp; Paint</td>\n",
       "      <td>ART_AND_DESIGN</td>\n",
       "      <td>4.5</td>\n",
       "      <td>215644</td>\n",
       "      <td>25</td>\n",
       "      <td>M</td>\n",
       "      <td>50,000,000+</td>\n",
       "      <td>Free</td>\n",
       "      <td>0</td>\n",
       "      <td>Teen</td>\n",
       "      <td>Art &amp; Design</td>\n",
       "      <td>June 8, 2018</td>\n",
       "      <td>Varies with device</td>\n",
       "      <td>4.2 and up</td>\n",
       "    </tr>\n",
       "    <tr>\n",
       "      <th>4</th>\n",
       "      <td>Pixel Draw - Number Art Coloring Book</td>\n",
       "      <td>ART_AND_DESIGN</td>\n",
       "      <td>4.3</td>\n",
       "      <td>967</td>\n",
       "      <td>2.8</td>\n",
       "      <td>M</td>\n",
       "      <td>100,000+</td>\n",
       "      <td>Free</td>\n",
       "      <td>0</td>\n",
       "      <td>Everyone</td>\n",
       "      <td>Art &amp; Design;Creativity</td>\n",
       "      <td>June 20, 2018</td>\n",
       "      <td>1.1</td>\n",
       "      <td>4.4 and up</td>\n",
       "    </tr>\n",
       "  </tbody>\n",
       "</table>\n",
       "</div>"
      ],
      "text/plain": [
       "                                                 App        Category  Rating  \\\n",
       "0     Photo Editor & Candy Camera & Grid & ScrapBook  ART_AND_DESIGN     4.1   \n",
       "1                                Coloring book moana  ART_AND_DESIGN     3.9   \n",
       "2  U Launcher Lite – FREE Live Cool Themes, Hide ...  ART_AND_DESIGN     4.7   \n",
       "3                              Sketch - Draw & Paint  ART_AND_DESIGN     4.5   \n",
       "4              Pixel Draw - Number Art Coloring Book  ART_AND_DESIGN     4.3   \n",
       "\n",
       "   Reviews Size Memory     Installs  Type Price Content Rating  \\\n",
       "0      159   19      M      10,000+  Free     0       Everyone   \n",
       "1      967   14      M     500,000+  Free     0       Everyone   \n",
       "2    87510  8.7      M   5,000,000+  Free     0       Everyone   \n",
       "3   215644   25      M  50,000,000+  Free     0           Teen   \n",
       "4      967  2.8      M     100,000+  Free     0       Everyone   \n",
       "\n",
       "                      Genres      Last Updated         Current Ver  \\\n",
       "0               Art & Design   January 7, 2018               1.0.0   \n",
       "1  Art & Design;Pretend Play  January 15, 2018               2.0.0   \n",
       "2               Art & Design    August 1, 2018               1.2.4   \n",
       "3               Art & Design      June 8, 2018  Varies with device   \n",
       "4    Art & Design;Creativity     June 20, 2018                 1.1   \n",
       "\n",
       "    Android Ver  \n",
       "0  4.0.3 and up  \n",
       "1  4.0.3 and up  \n",
       "2  4.0.3 and up  \n",
       "3    4.2 and up  \n",
       "4    4.4 and up  "
      ]
     },
     "execution_count": 223,
     "metadata": {},
     "output_type": "execute_result"
    }
   ],
   "source": [
    "df.head()"
   ]
  },
  {
   "cell_type": "code",
   "execution_count": 224,
   "metadata": {},
   "outputs": [
    {
     "data": {
      "text/plain": [
       "M    8830\n",
       "     1695\n",
       "k     316\n",
       "Name: Memory, dtype: int64"
      ]
     },
     "execution_count": 224,
     "metadata": {},
     "output_type": "execute_result"
    }
   ],
   "source": [
    "df.Memory.value_counts()"
   ]
  },
  {
   "cell_type": "code",
   "execution_count": 225,
   "metadata": {},
   "outputs": [
    {
     "data": {
      "text/plain": [
       "array(['M', '', 'k'], dtype=object)"
      ]
     },
     "execution_count": 225,
     "metadata": {},
     "output_type": "execute_result"
    }
   ],
   "source": [
    "df.Memory.unique()"
   ]
  },
  {
   "cell_type": "code",
   "execution_count": 226,
   "metadata": {},
   "outputs": [],
   "source": [
    "df.Memory.replace([\"M\", \"\", 'k'],[2, 0, 1], inplace=True)"
   ]
  },
  {
   "cell_type": "code",
   "execution_count": 227,
   "metadata": {},
   "outputs": [
    {
     "data": {
      "text/plain": [
       "dtype('int64')"
      ]
     },
     "execution_count": 227,
     "metadata": {},
     "output_type": "execute_result"
    }
   ],
   "source": [
    "df.Memory.dtype"
   ]
  },
  {
   "cell_type": "code",
   "execution_count": 228,
   "metadata": {},
   "outputs": [
    {
     "name": "stdout",
     "output_type": "stream",
     "text": [
      "<class 'pandas.core.frame.DataFrame'>\n",
      "RangeIndex: 10841 entries, 0 to 10840\n",
      "Data columns (total 14 columns):\n",
      " #   Column          Non-Null Count  Dtype  \n",
      "---  ------          --------------  -----  \n",
      " 0   App             10841 non-null  object \n",
      " 1   Category        10841 non-null  object \n",
      " 2   Rating          10841 non-null  float64\n",
      " 3   Reviews         10841 non-null  int64  \n",
      " 4   Size            10841 non-null  object \n",
      " 5   Memory          10841 non-null  int64  \n",
      " 6   Installs        10841 non-null  object \n",
      " 7   Type            10840 non-null  object \n",
      " 8   Price           10841 non-null  object \n",
      " 9   Content Rating  10841 non-null  object \n",
      " 10  Genres          10840 non-null  object \n",
      " 11  Last Updated    10841 non-null  object \n",
      " 12  Current Ver     10833 non-null  object \n",
      " 13  Android Ver     10839 non-null  object \n",
      "dtypes: float64(1), int64(2), object(11)\n",
      "memory usage: 1.2+ MB\n"
     ]
    }
   ],
   "source": [
    "df.info()"
   ]
  },
  {
   "cell_type": "code",
   "execution_count": 229,
   "metadata": {},
   "outputs": [
    {
     "data": {
      "text/plain": [
       "dtype('O')"
      ]
     },
     "execution_count": 229,
     "metadata": {},
     "output_type": "execute_result"
    }
   ],
   "source": [
    "df.Size.dtype"
   ]
  },
  {
   "cell_type": "code",
   "execution_count": 230,
   "metadata": {},
   "outputs": [],
   "source": [
    "df.Size = df.Size.astype(float)"
   ]
  },
  {
   "cell_type": "code",
   "execution_count": 231,
   "metadata": {},
   "outputs": [
    {
     "data": {
      "text/plain": [
       "dtype('float64')"
      ]
     },
     "execution_count": 231,
     "metadata": {},
     "output_type": "execute_result"
    }
   ],
   "source": [
    "df.Size.dtype"
   ]
  },
  {
   "cell_type": "code",
   "execution_count": 232,
   "metadata": {},
   "outputs": [
    {
     "name": "stdout",
     "output_type": "stream",
     "text": [
      "<class 'pandas.core.frame.DataFrame'>\n",
      "RangeIndex: 10841 entries, 0 to 10840\n",
      "Data columns (total 14 columns):\n",
      " #   Column          Non-Null Count  Dtype  \n",
      "---  ------          --------------  -----  \n",
      " 0   App             10841 non-null  object \n",
      " 1   Category        10841 non-null  object \n",
      " 2   Rating          10841 non-null  float64\n",
      " 3   Reviews         10841 non-null  int64  \n",
      " 4   Size            10841 non-null  float64\n",
      " 5   Memory          10841 non-null  int64  \n",
      " 6   Installs        10841 non-null  object \n",
      " 7   Type            10840 non-null  object \n",
      " 8   Price           10841 non-null  object \n",
      " 9   Content Rating  10841 non-null  object \n",
      " 10  Genres          10840 non-null  object \n",
      " 11  Last Updated    10841 non-null  object \n",
      " 12  Current Ver     10833 non-null  object \n",
      " 13  Android Ver     10839 non-null  object \n",
      "dtypes: float64(2), int64(2), object(10)\n",
      "memory usage: 1.2+ MB\n"
     ]
    }
   ],
   "source": [
    "df.info()"
   ]
  },
  {
   "cell_type": "code",
   "execution_count": 233,
   "metadata": {},
   "outputs": [
    {
     "data": {
      "text/plain": [
       "array(['10,000+', '500,000+', '5,000,000+', '50,000,000+', '100,000+',\n",
       "       '50,000+', '1,000,000+', '10,000,000+', '5,000+', '100,000,000+',\n",
       "       '1,000,000,000+', '1,000+', '500,000,000+', '50+', '100+', '500+',\n",
       "       '10+', '1+', '5+', '0+', '0'], dtype=object)"
      ]
     },
     "execution_count": 233,
     "metadata": {},
     "output_type": "execute_result"
    }
   ],
   "source": [
    "df.Installs.unique()"
   ]
  },
  {
   "cell_type": "code",
   "execution_count": 234,
   "metadata": {},
   "outputs": [
    {
     "name": "stderr",
     "output_type": "stream",
     "text": [
      "C:\\Users\\shoba\\AppData\\Local\\Temp/ipykernel_5920/3661904576.py:2: SettingWithCopyWarning: \n",
      "A value is trying to be set on a copy of a slice from a DataFrame\n",
      "\n",
      "See the caveats in the documentation: https://pandas.pydata.org/pandas-docs/stable/user_guide/indexing.html#returning-a-view-versus-a-copy\n",
      "  df.Installs[i] = re.sub(\",|\\+\",\"\",str(df.Installs[i]))\n"
     ]
    }
   ],
   "source": [
    "for i in range(len(df.Installs)):\n",
    "    df.Installs[i] = re.sub(\",|\\+\",\"\",str(df.Installs[i]))"
   ]
  },
  {
   "cell_type": "code",
   "execution_count": 235,
   "metadata": {},
   "outputs": [
    {
     "data": {
      "text/plain": [
       "array(['10000', '500000', '5000000', '50000000', '100000', '50000',\n",
       "       '1000000', '10000000', '5000', '100000000', '1000000000', '1000',\n",
       "       '500000000', '50', '100', '500', '10', '1', '5', '0'], dtype=object)"
      ]
     },
     "execution_count": 235,
     "metadata": {},
     "output_type": "execute_result"
    }
   ],
   "source": [
    "df.Installs.unique()"
   ]
  },
  {
   "cell_type": "code",
   "execution_count": 236,
   "metadata": {},
   "outputs": [
    {
     "data": {
      "text/plain": [
       "dtype('O')"
      ]
     },
     "execution_count": 236,
     "metadata": {},
     "output_type": "execute_result"
    }
   ],
   "source": [
    "df.Installs.dtype"
   ]
  },
  {
   "cell_type": "code",
   "execution_count": 237,
   "metadata": {},
   "outputs": [],
   "source": [
    "df.Installs = df.Installs.astype(np.int64)"
   ]
  },
  {
   "cell_type": "code",
   "execution_count": 238,
   "metadata": {},
   "outputs": [
    {
     "data": {
      "text/plain": [
       "dtype('int64')"
      ]
     },
     "execution_count": 238,
     "metadata": {},
     "output_type": "execute_result"
    }
   ],
   "source": [
    "df.Installs.dtype"
   ]
  },
  {
   "cell_type": "code",
   "execution_count": 239,
   "metadata": {},
   "outputs": [
    {
     "name": "stdout",
     "output_type": "stream",
     "text": [
      "<class 'pandas.core.frame.DataFrame'>\n",
      "RangeIndex: 10841 entries, 0 to 10840\n",
      "Data columns (total 14 columns):\n",
      " #   Column          Non-Null Count  Dtype  \n",
      "---  ------          --------------  -----  \n",
      " 0   App             10841 non-null  object \n",
      " 1   Category        10841 non-null  object \n",
      " 2   Rating          10841 non-null  float64\n",
      " 3   Reviews         10841 non-null  int64  \n",
      " 4   Size            10841 non-null  float64\n",
      " 5   Memory          10841 non-null  int64  \n",
      " 6   Installs        10841 non-null  int64  \n",
      " 7   Type            10840 non-null  object \n",
      " 8   Price           10841 non-null  object \n",
      " 9   Content Rating  10841 non-null  object \n",
      " 10  Genres          10840 non-null  object \n",
      " 11  Last Updated    10841 non-null  object \n",
      " 12  Current Ver     10833 non-null  object \n",
      " 13  Android Ver     10839 non-null  object \n",
      "dtypes: float64(2), int64(3), object(9)\n",
      "memory usage: 1.2+ MB\n"
     ]
    }
   ],
   "source": [
    "df.info()"
   ]
  },
  {
   "cell_type": "code",
   "execution_count": 240,
   "metadata": {},
   "outputs": [
    {
     "data": {
      "text/plain": [
       "array(['Free', 'Paid', nan], dtype=object)"
      ]
     },
     "execution_count": 240,
     "metadata": {},
     "output_type": "execute_result"
    }
   ],
   "source": [
    "df.Type.unique()"
   ]
  },
  {
   "cell_type": "code",
   "execution_count": 241,
   "metadata": {},
   "outputs": [
    {
     "data": {
      "text/html": [
       "<div>\n",
       "<style scoped>\n",
       "    .dataframe tbody tr th:only-of-type {\n",
       "        vertical-align: middle;\n",
       "    }\n",
       "\n",
       "    .dataframe tbody tr th {\n",
       "        vertical-align: top;\n",
       "    }\n",
       "\n",
       "    .dataframe thead th {\n",
       "        text-align: right;\n",
       "    }\n",
       "</style>\n",
       "<table border=\"1\" class=\"dataframe\">\n",
       "  <thead>\n",
       "    <tr style=\"text-align: right;\">\n",
       "      <th></th>\n",
       "      <th>App</th>\n",
       "      <th>Category</th>\n",
       "      <th>Rating</th>\n",
       "      <th>Reviews</th>\n",
       "      <th>Size</th>\n",
       "      <th>Memory</th>\n",
       "      <th>Installs</th>\n",
       "      <th>Type</th>\n",
       "      <th>Price</th>\n",
       "      <th>Content Rating</th>\n",
       "      <th>Genres</th>\n",
       "      <th>Last Updated</th>\n",
       "      <th>Current Ver</th>\n",
       "      <th>Android Ver</th>\n",
       "    </tr>\n",
       "  </thead>\n",
       "  <tbody>\n",
       "    <tr>\n",
       "      <th>9148</th>\n",
       "      <td>Command &amp; Conquer: Rivals</td>\n",
       "      <td>FAMILY</td>\n",
       "      <td>4.191513</td>\n",
       "      <td>0</td>\n",
       "      <td>0.0</td>\n",
       "      <td>0</td>\n",
       "      <td>0</td>\n",
       "      <td>NaN</td>\n",
       "      <td>0</td>\n",
       "      <td>Everyone 10+</td>\n",
       "      <td>Strategy</td>\n",
       "      <td>June 28, 2018</td>\n",
       "      <td>Varies with device</td>\n",
       "      <td>Varies with device</td>\n",
       "    </tr>\n",
       "  </tbody>\n",
       "</table>\n",
       "</div>"
      ],
      "text/plain": [
       "                            App Category    Rating  Reviews  Size  Memory  \\\n",
       "9148  Command & Conquer: Rivals   FAMILY  4.191513        0   0.0       0   \n",
       "\n",
       "      Installs Type Price Content Rating    Genres   Last Updated  \\\n",
       "9148         0  NaN     0   Everyone 10+  Strategy  June 28, 2018   \n",
       "\n",
       "             Current Ver         Android Ver  \n",
       "9148  Varies with device  Varies with device  "
      ]
     },
     "execution_count": 241,
     "metadata": {},
     "output_type": "execute_result"
    }
   ],
   "source": [
    "df[df.Type.isnull()]"
   ]
  },
  {
   "cell_type": "code",
   "execution_count": 242,
   "metadata": {},
   "outputs": [],
   "source": [
    "df.Type.fillna('Free',inplace=True)"
   ]
  },
  {
   "cell_type": "code",
   "execution_count": 243,
   "metadata": {},
   "outputs": [
    {
     "data": {
      "text/plain": [
       "Free    10041\n",
       "Paid      800\n",
       "Name: Type, dtype: int64"
      ]
     },
     "execution_count": 243,
     "metadata": {},
     "output_type": "execute_result"
    }
   ],
   "source": [
    "df.Type.value_counts()"
   ]
  },
  {
   "cell_type": "code",
   "execution_count": 244,
   "metadata": {},
   "outputs": [
    {
     "data": {
      "text/plain": [
       "array(['0', '$4.99', '$3.99', '$6.99', '$1.49', '$2.99', '$7.99', '$5.99',\n",
       "       '$3.49', '$1.99', '$9.99', '$7.49', '$0.99', '$9.00', '$5.49',\n",
       "       '$10.00', '$24.99', '$11.99', '$79.99', '$16.99', '$14.99',\n",
       "       '$1.00', '$29.99', '$12.99', '$2.49', '$10.99', '$1.50', '$19.99',\n",
       "       '$15.99', '$33.99', '$74.99', '$39.99', '$3.95', '$4.49', '$1.70',\n",
       "       '$8.99', '$2.00', '$3.88', '$25.99', '$399.99', '$17.99',\n",
       "       '$400.00', '$3.02', '$1.76', '$4.84', '$4.77', '$1.61', '$2.50',\n",
       "       '$1.59', '$6.49', '$1.29', '$5.00', '$13.99', '$299.99', '$379.99',\n",
       "       '$37.99', '$18.99', '$389.99', '$19.90', '$8.49', '$1.75',\n",
       "       '$14.00', '$4.85', '$46.99', '$109.99', '$154.99', '$3.08',\n",
       "       '$2.59', '$4.80', '$1.96', '$19.40', '$3.90', '$4.59', '$15.46',\n",
       "       '$3.04', '$4.29', '$2.60', '$3.28', '$4.60', '$28.99', '$2.95',\n",
       "       '$2.90', '$1.97', '$200.00', '$89.99', '$2.56', '$30.99', '$3.61',\n",
       "       '$394.99', '$1.26', '$1.20', '$1.04'], dtype=object)"
      ]
     },
     "execution_count": 244,
     "metadata": {},
     "output_type": "execute_result"
    }
   ],
   "source": [
    "df.Price.unique()"
   ]
  },
  {
   "cell_type": "code",
   "execution_count": 245,
   "metadata": {},
   "outputs": [
    {
     "data": {
      "text/plain": [
       "0         10041\n",
       "$0.99       148\n",
       "$2.99       129\n",
       "$1.99        73\n",
       "$4.99        72\n",
       "          ...  \n",
       "$19.90        1\n",
       "$1.75         1\n",
       "$14.00        1\n",
       "$4.85         1\n",
       "$1.04         1\n",
       "Name: Price, Length: 92, dtype: int64"
      ]
     },
     "execution_count": 245,
     "metadata": {},
     "output_type": "execute_result"
    }
   ],
   "source": [
    "df.Price.value_counts()"
   ]
  },
  {
   "cell_type": "code",
   "execution_count": 247,
   "metadata": {},
   "outputs": [
    {
     "name": "stderr",
     "output_type": "stream",
     "text": [
      "C:\\Users\\shoba\\AppData\\Local\\Temp/ipykernel_5920/843572742.py:5: SettingWithCopyWarning: \n",
      "A value is trying to be set on a copy of a slice from a DataFrame\n",
      "\n",
      "See the caveats in the documentation: https://pandas.pydata.org/pandas-docs/stable/user_guide/indexing.html#returning-a-view-versus-a-copy\n",
      "  df.Price[i] = re.sub(\"\\$\",\"\",str(df.Price[i]))\n"
     ]
    }
   ],
   "source": [
    "for i in range(len(df.Price)):\n",
    "    if df.Price[i] == '0':\n",
    "        pass\n",
    "    else:\n",
    "        df.Price[i] = re.sub(\"\\$\",\"\",str(df.Price[i]))"
   ]
  },
  {
   "cell_type": "code",
   "execution_count": 248,
   "metadata": {},
   "outputs": [
    {
     "data": {
      "text/plain": [
       "0        10041\n",
       "0.99       148\n",
       "2.99       129\n",
       "1.99        73\n",
       "4.99        72\n",
       "         ...  \n",
       "19.90        1\n",
       "1.75         1\n",
       "14.00        1\n",
       "4.85         1\n",
       "1.04         1\n",
       "Name: Price, Length: 92, dtype: int64"
      ]
     },
     "execution_count": 248,
     "metadata": {},
     "output_type": "execute_result"
    }
   ],
   "source": [
    "df.Price.value_counts()"
   ]
  },
  {
   "cell_type": "code",
   "execution_count": 249,
   "metadata": {},
   "outputs": [
    {
     "name": "stdout",
     "output_type": "stream",
     "text": [
      "<class 'pandas.core.frame.DataFrame'>\n",
      "RangeIndex: 10841 entries, 0 to 10840\n",
      "Data columns (total 14 columns):\n",
      " #   Column          Non-Null Count  Dtype  \n",
      "---  ------          --------------  -----  \n",
      " 0   App             10841 non-null  object \n",
      " 1   Category        10841 non-null  object \n",
      " 2   Rating          10841 non-null  float64\n",
      " 3   Reviews         10841 non-null  int64  \n",
      " 4   Size            10841 non-null  float64\n",
      " 5   Memory          10841 non-null  int64  \n",
      " 6   Installs        10841 non-null  int64  \n",
      " 7   Type            10841 non-null  object \n",
      " 8   Price           10841 non-null  object \n",
      " 9   Content Rating  10841 non-null  object \n",
      " 10  Genres          10840 non-null  object \n",
      " 11  Last Updated    10841 non-null  object \n",
      " 12  Current Ver     10833 non-null  object \n",
      " 13  Android Ver     10839 non-null  object \n",
      "dtypes: float64(2), int64(3), object(9)\n",
      "memory usage: 1.2+ MB\n"
     ]
    }
   ],
   "source": [
    "df.info()"
   ]
  },
  {
   "cell_type": "code",
   "execution_count": 305,
   "metadata": {},
   "outputs": [],
   "source": [
    "df.rename(columns={'Content Rating' : \"Content_rating\",'Last Updated': \"Last_updated\" , 'Current Ver': 'Current_version', \"Android Ver\" : \"Android_version\"}, inplace=True)"
   ]
  },
  {
   "cell_type": "code",
   "execution_count": 253,
   "metadata": {},
   "outputs": [
    {
     "name": "stdout",
     "output_type": "stream",
     "text": [
      "<class 'pandas.core.frame.DataFrame'>\n",
      "RangeIndex: 10841 entries, 0 to 10840\n",
      "Data columns (total 14 columns):\n",
      " #   Column          Non-Null Count  Dtype  \n",
      "---  ------          --------------  -----  \n",
      " 0   App             10841 non-null  object \n",
      " 1   Category        10841 non-null  object \n",
      " 2   Rating          10841 non-null  float64\n",
      " 3   Reviews         10841 non-null  int64  \n",
      " 4   Size            10841 non-null  float64\n",
      " 5   Memory          10841 non-null  int64  \n",
      " 6   Installs        10841 non-null  int64  \n",
      " 7   Type            10841 non-null  object \n",
      " 8   Price           10841 non-null  object \n",
      " 9   Content_rating  10841 non-null  object \n",
      " 10  Genres          10840 non-null  object \n",
      " 11  Last_updated    10841 non-null  object \n",
      " 12  Current Ver     10833 non-null  object \n",
      " 13  Android Ver     10839 non-null  object \n",
      "dtypes: float64(2), int64(3), object(9)\n",
      "memory usage: 1.2+ MB\n"
     ]
    }
   ],
   "source": [
    "df.info()"
   ]
  },
  {
   "cell_type": "code",
   "execution_count": 254,
   "metadata": {},
   "outputs": [
    {
     "data": {
      "text/plain": [
       "array(['Everyone', 'Teen', 'Everyone 10+', 'Mature 17+',\n",
       "       'Adults only 18+', 'Unrated'], dtype=object)"
      ]
     },
     "execution_count": 254,
     "metadata": {},
     "output_type": "execute_result"
    }
   ],
   "source": [
    "df.Content_rating.unique()"
   ]
  },
  {
   "cell_type": "code",
   "execution_count": 255,
   "metadata": {},
   "outputs": [
    {
     "data": {
      "text/plain": [
       "array(['Art & Design', 'Art & Design;Pretend Play',\n",
       "       'Art & Design;Creativity', 'Art & Design;Action & Adventure',\n",
       "       'Auto & Vehicles', 'Beauty', 'Books & Reference', 'Business',\n",
       "       'Comics', 'Comics;Creativity', 'Communication', 'Dating',\n",
       "       'Education;Education', 'Education', 'Education;Creativity',\n",
       "       'Education;Music & Video', 'Education;Action & Adventure',\n",
       "       'Education;Pretend Play', 'Education;Brain Games', 'Entertainment',\n",
       "       'Entertainment;Music & Video', 'Entertainment;Brain Games',\n",
       "       'Entertainment;Creativity', 'Events', 'Finance', 'Food & Drink',\n",
       "       'Health & Fitness', 'House & Home', 'Libraries & Demo',\n",
       "       'Lifestyle', 'Lifestyle;Pretend Play',\n",
       "       'Adventure;Action & Adventure', 'Arcade', 'Casual', 'Card',\n",
       "       'Casual;Pretend Play', 'Action', 'Strategy', 'Puzzle', 'Sports',\n",
       "       'Music', 'Word', 'Racing', 'Casual;Creativity',\n",
       "       'Casual;Action & Adventure', 'Simulation', 'Adventure', 'Board',\n",
       "       'Trivia', 'Role Playing', 'Simulation;Education',\n",
       "       'Action;Action & Adventure', 'Casual;Brain Games',\n",
       "       'Simulation;Action & Adventure', 'Educational;Creativity',\n",
       "       'Puzzle;Brain Games', 'Educational;Education', 'Card;Brain Games',\n",
       "       'Educational;Brain Games', 'Educational;Pretend Play',\n",
       "       'Entertainment;Education', 'Casual;Education',\n",
       "       'Music;Music & Video', 'Racing;Action & Adventure',\n",
       "       'Arcade;Pretend Play', 'Role Playing;Action & Adventure',\n",
       "       'Simulation;Pretend Play', 'Puzzle;Creativity',\n",
       "       'Sports;Action & Adventure', 'Educational;Action & Adventure',\n",
       "       'Arcade;Action & Adventure', 'Entertainment;Action & Adventure',\n",
       "       'Puzzle;Action & Adventure', 'Strategy;Action & Adventure',\n",
       "       'Music & Audio;Music & Video', 'Health & Fitness;Education',\n",
       "       'Adventure;Education', 'Board;Brain Games',\n",
       "       'Board;Action & Adventure', 'Board;Pretend Play',\n",
       "       'Casual;Music & Video', 'Role Playing;Pretend Play',\n",
       "       'Entertainment;Pretend Play', 'Video Players & Editors;Creativity',\n",
       "       'Card;Action & Adventure', 'Medical', 'Social', 'Shopping',\n",
       "       'Photography', 'Travel & Local',\n",
       "       'Travel & Local;Action & Adventure', 'Tools', 'Tools;Education',\n",
       "       'Personalization', 'Productivity', 'Parenting',\n",
       "       'Parenting;Music & Video', 'Parenting;Education',\n",
       "       'Parenting;Brain Games', 'Weather', 'Video Players & Editors',\n",
       "       'Video Players & Editors;Music & Video', 'News & Magazines',\n",
       "       'Maps & Navigation', 'Health & Fitness;Action & Adventure',\n",
       "       'Educational', 'Casino', 'Adventure;Brain Games',\n",
       "       'Trivia;Education', 'Lifestyle;Education',\n",
       "       'Books & Reference;Creativity', 'Books & Reference;Education',\n",
       "       'Puzzle;Education', 'Role Playing;Education',\n",
       "       'Role Playing;Brain Games', 'Strategy;Education',\n",
       "       'Racing;Pretend Play', 'Communication;Creativity', nan,\n",
       "       'Strategy;Creativity'], dtype=object)"
      ]
     },
     "execution_count": 255,
     "metadata": {},
     "output_type": "execute_result"
    }
   ],
   "source": [
    "df.Genres.unique()"
   ]
  },
  {
   "cell_type": "code",
   "execution_count": 256,
   "metadata": {},
   "outputs": [
    {
     "data": {
      "text/html": [
       "<div>\n",
       "<style scoped>\n",
       "    .dataframe tbody tr th:only-of-type {\n",
       "        vertical-align: middle;\n",
       "    }\n",
       "\n",
       "    .dataframe tbody tr th {\n",
       "        vertical-align: top;\n",
       "    }\n",
       "\n",
       "    .dataframe thead th {\n",
       "        text-align: right;\n",
       "    }\n",
       "</style>\n",
       "<table border=\"1\" class=\"dataframe\">\n",
       "  <thead>\n",
       "    <tr style=\"text-align: right;\">\n",
       "      <th></th>\n",
       "      <th>App</th>\n",
       "      <th>Category</th>\n",
       "      <th>Rating</th>\n",
       "      <th>Reviews</th>\n",
       "      <th>Size</th>\n",
       "      <th>Memory</th>\n",
       "      <th>Installs</th>\n",
       "      <th>Type</th>\n",
       "      <th>Price</th>\n",
       "      <th>Content_rating</th>\n",
       "      <th>Genres</th>\n",
       "      <th>Last_updated</th>\n",
       "      <th>Current Ver</th>\n",
       "      <th>Android Ver</th>\n",
       "    </tr>\n",
       "  </thead>\n",
       "  <tbody>\n",
       "    <tr>\n",
       "      <th>10472</th>\n",
       "      <td>Life Made WI-Fi Touchscreen Photo Frame</td>\n",
       "      <td>PHOTOGRAPHY</td>\n",
       "      <td>1.9</td>\n",
       "      <td>19</td>\n",
       "      <td>3.0</td>\n",
       "      <td>2</td>\n",
       "      <td>1000</td>\n",
       "      <td>Free</td>\n",
       "      <td>0</td>\n",
       "      <td>Everyone</td>\n",
       "      <td>NaN</td>\n",
       "      <td>February 11, 2018</td>\n",
       "      <td>1.0.19</td>\n",
       "      <td>4.0 and up</td>\n",
       "    </tr>\n",
       "  </tbody>\n",
       "</table>\n",
       "</div>"
      ],
      "text/plain": [
       "                                           App     Category  Rating  Reviews  \\\n",
       "10472  Life Made WI-Fi Touchscreen Photo Frame  PHOTOGRAPHY     1.9       19   \n",
       "\n",
       "       Size  Memory  Installs  Type Price Content_rating Genres  \\\n",
       "10472   3.0       2      1000  Free     0       Everyone    NaN   \n",
       "\n",
       "            Last_updated Current Ver Android Ver  \n",
       "10472  February 11, 2018      1.0.19  4.0 and up  "
      ]
     },
     "execution_count": 256,
     "metadata": {},
     "output_type": "execute_result"
    }
   ],
   "source": [
    "df[df.Genres.isnull()]"
   ]
  },
  {
   "cell_type": "code",
   "execution_count": 258,
   "metadata": {},
   "outputs": [],
   "source": [
    "df.Genres.fillna('PHOTOGRAPHY', inplace=True)"
   ]
  },
  {
   "cell_type": "code",
   "execution_count": 259,
   "metadata": {},
   "outputs": [
    {
     "data": {
      "text/plain": [
       "0"
      ]
     },
     "execution_count": 259,
     "metadata": {},
     "output_type": "execute_result"
    }
   ],
   "source": [
    "df.Genres.isna().sum()"
   ]
  },
  {
   "cell_type": "code",
   "execution_count": 260,
   "metadata": {},
   "outputs": [
    {
     "name": "stdout",
     "output_type": "stream",
     "text": [
      "<class 'pandas.core.frame.DataFrame'>\n",
      "RangeIndex: 10841 entries, 0 to 10840\n",
      "Data columns (total 14 columns):\n",
      " #   Column          Non-Null Count  Dtype  \n",
      "---  ------          --------------  -----  \n",
      " 0   App             10841 non-null  object \n",
      " 1   Category        10841 non-null  object \n",
      " 2   Rating          10841 non-null  float64\n",
      " 3   Reviews         10841 non-null  int64  \n",
      " 4   Size            10841 non-null  float64\n",
      " 5   Memory          10841 non-null  int64  \n",
      " 6   Installs        10841 non-null  int64  \n",
      " 7   Type            10841 non-null  object \n",
      " 8   Price           10841 non-null  object \n",
      " 9   Content_rating  10841 non-null  object \n",
      " 10  Genres          10841 non-null  object \n",
      " 11  Last_updated    10841 non-null  object \n",
      " 12  Current Ver     10833 non-null  object \n",
      " 13  Android Ver     10839 non-null  object \n",
      "dtypes: float64(2), int64(3), object(9)\n",
      "memory usage: 1.2+ MB\n"
     ]
    }
   ],
   "source": [
    "df.info()"
   ]
  },
  {
   "cell_type": "code",
   "execution_count": 261,
   "metadata": {},
   "outputs": [
    {
     "data": {
      "text/plain": [
       "array(['January 7, 2018', 'January 15, 2018', 'August 1, 2018', ...,\n",
       "       'January 20, 2014', 'February 16, 2014', 'March 23, 2014'],\n",
       "      dtype=object)"
      ]
     },
     "execution_count": 261,
     "metadata": {},
     "output_type": "execute_result"
    }
   ],
   "source": [
    "df.Last_updated.unique()"
   ]
  },
  {
   "cell_type": "code",
   "execution_count": 276,
   "metadata": {},
   "outputs": [],
   "source": [
    "y = []\n",
    "m = []\n",
    "d = []\n",
    "for i in range(len(df.Last_updated)):\n",
    "    y.append(df.Last_updated[i].split()[2])\n",
    "    d.append(df.Last_updated[i].split()[1][0])\n",
    "    m.append(df.Last_updated[i].split()[0])\n"
   ]
  },
  {
   "cell_type": "code",
   "execution_count": 277,
   "metadata": {},
   "outputs": [
    {
     "data": {
      "text/plain": [
       "['7',\n",
       " '1',\n",
       " '1',\n",
       " '8',\n",
       " '2',\n",
       " '2',\n",
       " '2',\n",
       " '1',\n",
       " '2',\n",
       " '3',\n",
       " '2',\n",
       " '3',\n",
       " '2',\n",
       " '2',\n",
       " '3',\n",
       " '6',\n",
       " '3',\n",
       " '7',\n",
       " '3',\n",
       " '3',\n",
       " '2',\n",
       " '2',\n",
       " '1',\n",
       " '7',\n",
       " '7',\n",
       " '2',\n",
       " '1',\n",
       " '2',\n",
       " '1',\n",
       " '2',\n",
       " '1',\n",
       " '3',\n",
       " '1',\n",
       " '6',\n",
       " '2',\n",
       " '1',\n",
       " '2',\n",
       " '1',\n",
       " '2',\n",
       " '3',\n",
       " '2',\n",
       " '2',\n",
       " '3',\n",
       " '1',\n",
       " '3',\n",
       " '3',\n",
       " '1',\n",
       " '1',\n",
       " '2',\n",
       " '1',\n",
       " '2',\n",
       " '2',\n",
       " '3',\n",
       " '2',\n",
       " '3',\n",
       " '1',\n",
       " '2',\n",
       " '2',\n",
       " '2',\n",
       " '3',\n",
       " '8',\n",
       " '3',\n",
       " '2',\n",
       " '1',\n",
       " '3',\n",
       " '3',\n",
       " '1',\n",
       " '3',\n",
       " '2',\n",
       " '1',\n",
       " '2',\n",
       " '2',\n",
       " '1',\n",
       " '2',\n",
       " '2',\n",
       " '1',\n",
       " '8',\n",
       " '4',\n",
       " '2',\n",
       " '1',\n",
       " '2',\n",
       " '2',\n",
       " '3',\n",
       " '2',\n",
       " '2',\n",
       " '4',\n",
       " '2',\n",
       " '2',\n",
       " '3',\n",
       " '1',\n",
       " '1',\n",
       " '3',\n",
       " '2',\n",
       " '2',\n",
       " '2',\n",
       " '2',\n",
       " '2',\n",
       " '2',\n",
       " '2',\n",
       " '9',\n",
       " '1',\n",
       " '1',\n",
       " '2',\n",
       " '2',\n",
       " '2',\n",
       " '1',\n",
       " '2',\n",
       " '5',\n",
       " '2',\n",
       " '1',\n",
       " '2',\n",
       " '2',\n",
       " '2',\n",
       " '2',\n",
       " '9',\n",
       " '1',\n",
       " '5',\n",
       " '3',\n",
       " '2',\n",
       " '2',\n",
       " '1',\n",
       " '2',\n",
       " '2',\n",
       " '2',\n",
       " '1',\n",
       " '1',\n",
       " '1',\n",
       " '2',\n",
       " '7',\n",
       " '8',\n",
       " '1',\n",
       " '2',\n",
       " '1',\n",
       " '1',\n",
       " '2',\n",
       " '5',\n",
       " '3',\n",
       " '7',\n",
       " '2',\n",
       " '1',\n",
       " '3',\n",
       " '3',\n",
       " '2',\n",
       " '2',\n",
       " '1',\n",
       " '1',\n",
       " '2',\n",
       " '2',\n",
       " '6',\n",
       " '2',\n",
       " '2',\n",
       " '1',\n",
       " '3',\n",
       " '2',\n",
       " '1',\n",
       " '1',\n",
       " '4',\n",
       " '2',\n",
       " '2',\n",
       " '2',\n",
       " '1',\n",
       " '2',\n",
       " '2',\n",
       " '1',\n",
       " '2',\n",
       " '4',\n",
       " '2',\n",
       " '2',\n",
       " '2',\n",
       " '1',\n",
       " '1',\n",
       " '1',\n",
       " '3',\n",
       " '2',\n",
       " '3',\n",
       " '2',\n",
       " '2',\n",
       " '1',\n",
       " '1',\n",
       " '1',\n",
       " '1',\n",
       " '2',\n",
       " '1',\n",
       " '2',\n",
       " '1',\n",
       " '7',\n",
       " '2',\n",
       " '3',\n",
       " '2',\n",
       " '3',\n",
       " '1',\n",
       " '4',\n",
       " '2',\n",
       " '2',\n",
       " '2',\n",
       " '1',\n",
       " '1',\n",
       " '8',\n",
       " '2',\n",
       " '3',\n",
       " '1',\n",
       " '2',\n",
       " '9',\n",
       " '1',\n",
       " '3',\n",
       " '8',\n",
       " '2',\n",
       " '2',\n",
       " '3',\n",
       " '1',\n",
       " '1',\n",
       " '3',\n",
       " '1',\n",
       " '2',\n",
       " '8',\n",
       " '1',\n",
       " '2',\n",
       " '1',\n",
       " '4',\n",
       " '1',\n",
       " '2',\n",
       " '8',\n",
       " '2',\n",
       " '2',\n",
       " '2',\n",
       " '3',\n",
       " '2',\n",
       " '9',\n",
       " '2',\n",
       " '2',\n",
       " '1',\n",
       " '3',\n",
       " '1',\n",
       " '2',\n",
       " '2',\n",
       " '1',\n",
       " '3',\n",
       " '1',\n",
       " '3',\n",
       " '2',\n",
       " '2',\n",
       " '1',\n",
       " '1',\n",
       " '1',\n",
       " '3',\n",
       " '3',\n",
       " '2',\n",
       " '2',\n",
       " '2',\n",
       " '1',\n",
       " '3',\n",
       " '2',\n",
       " '2',\n",
       " '1',\n",
       " '1',\n",
       " '2',\n",
       " '2',\n",
       " '2',\n",
       " '2',\n",
       " '1',\n",
       " '2',\n",
       " '1',\n",
       " '3',\n",
       " '2',\n",
       " '2',\n",
       " '3',\n",
       " '1',\n",
       " '3',\n",
       " '2',\n",
       " '2',\n",
       " '1',\n",
       " '1',\n",
       " '1',\n",
       " '3',\n",
       " '3',\n",
       " '2',\n",
       " '2',\n",
       " '2',\n",
       " '1',\n",
       " '3',\n",
       " '2',\n",
       " '2',\n",
       " '1',\n",
       " '1',\n",
       " '2',\n",
       " '2',\n",
       " '1',\n",
       " '3',\n",
       " '1',\n",
       " '2',\n",
       " '2',\n",
       " '1',\n",
       " '2',\n",
       " '2',\n",
       " '2',\n",
       " '2',\n",
       " '1',\n",
       " '3',\n",
       " '4',\n",
       " '2',\n",
       " '1',\n",
       " '3',\n",
       " '1',\n",
       " '7',\n",
       " '9',\n",
       " '3',\n",
       " '2',\n",
       " '2',\n",
       " '3',\n",
       " '1',\n",
       " '5',\n",
       " '3',\n",
       " '1',\n",
       " '6',\n",
       " '2',\n",
       " '5',\n",
       " '1',\n",
       " '2',\n",
       " '3',\n",
       " '1',\n",
       " '5',\n",
       " '3',\n",
       " '2',\n",
       " '2',\n",
       " '1',\n",
       " '2',\n",
       " '3',\n",
       " '3',\n",
       " '3',\n",
       " '2',\n",
       " '1',\n",
       " '1',\n",
       " '3',\n",
       " '2',\n",
       " '2',\n",
       " '1',\n",
       " '3',\n",
       " '6',\n",
       " '1',\n",
       " '2',\n",
       " '2',\n",
       " '2',\n",
       " '1',\n",
       " '3',\n",
       " '1',\n",
       " '1',\n",
       " '7',\n",
       " '8',\n",
       " '2',\n",
       " '2',\n",
       " '4',\n",
       " '1',\n",
       " '1',\n",
       " '3',\n",
       " '1',\n",
       " '2',\n",
       " '3',\n",
       " '1',\n",
       " '6',\n",
       " '3',\n",
       " '2',\n",
       " '2',\n",
       " '2',\n",
       " '3',\n",
       " '3',\n",
       " '3',\n",
       " '1',\n",
       " '3',\n",
       " '2',\n",
       " '1',\n",
       " '2',\n",
       " '3',\n",
       " '9',\n",
       " '4',\n",
       " '1',\n",
       " '2',\n",
       " '2',\n",
       " '4',\n",
       " '2',\n",
       " '2',\n",
       " '2',\n",
       " '3',\n",
       " '1',\n",
       " '8',\n",
       " '2',\n",
       " '1',\n",
       " '2',\n",
       " '1',\n",
       " '1',\n",
       " '1',\n",
       " '3',\n",
       " '3',\n",
       " '2',\n",
       " '3',\n",
       " '3',\n",
       " '1',\n",
       " '1',\n",
       " '2',\n",
       " '2',\n",
       " '2',\n",
       " '2',\n",
       " '2',\n",
       " '2',\n",
       " '2',\n",
       " '3',\n",
       " '3',\n",
       " '2',\n",
       " '3',\n",
       " '6',\n",
       " '3',\n",
       " '2',\n",
       " '1',\n",
       " '1',\n",
       " '3',\n",
       " '9',\n",
       " '3',\n",
       " '2',\n",
       " '1',\n",
       " '2',\n",
       " '1',\n",
       " '2',\n",
       " '2',\n",
       " '3',\n",
       " '2',\n",
       " '1',\n",
       " '1',\n",
       " '2',\n",
       " '5',\n",
       " '3',\n",
       " '5',\n",
       " '1',\n",
       " '1',\n",
       " '1',\n",
       " '5',\n",
       " '1',\n",
       " '2',\n",
       " '2',\n",
       " '1',\n",
       " '2',\n",
       " '4',\n",
       " '2',\n",
       " '1',\n",
       " '2',\n",
       " '2',\n",
       " '5',\n",
       " '2',\n",
       " '2',\n",
       " '2',\n",
       " '1',\n",
       " '1',\n",
       " '7',\n",
       " '2',\n",
       " '1',\n",
       " '6',\n",
       " '3',\n",
       " '1',\n",
       " '3',\n",
       " '1',\n",
       " '6',\n",
       " '3',\n",
       " '1',\n",
       " '2',\n",
       " '2',\n",
       " '9',\n",
       " '2',\n",
       " '8',\n",
       " '1',\n",
       " '1',\n",
       " '3',\n",
       " '3',\n",
       " '2',\n",
       " '4',\n",
       " '2',\n",
       " '2',\n",
       " '2',\n",
       " '3',\n",
       " '1',\n",
       " '2',\n",
       " '1',\n",
       " '2',\n",
       " '2',\n",
       " '2',\n",
       " '2',\n",
       " '3',\n",
       " '2',\n",
       " '1',\n",
       " '3',\n",
       " '3',\n",
       " '2',\n",
       " '4',\n",
       " '1',\n",
       " '2',\n",
       " '3',\n",
       " '4',\n",
       " '2',\n",
       " '2',\n",
       " '2',\n",
       " '3',\n",
       " '3',\n",
       " '7',\n",
       " '1',\n",
       " '2',\n",
       " '3',\n",
       " '1',\n",
       " '2',\n",
       " '3',\n",
       " '1',\n",
       " '6',\n",
       " '2',\n",
       " '2',\n",
       " '3',\n",
       " '2',\n",
       " '1',\n",
       " '2',\n",
       " '2',\n",
       " '3',\n",
       " '2',\n",
       " '2',\n",
       " '1',\n",
       " '2',\n",
       " '3',\n",
       " '3',\n",
       " '1',\n",
       " '1',\n",
       " '2',\n",
       " '2',\n",
       " '8',\n",
       " '4',\n",
       " '6',\n",
       " '2',\n",
       " '2',\n",
       " '2',\n",
       " '7',\n",
       " '1',\n",
       " '2',\n",
       " '2',\n",
       " '1',\n",
       " '3',\n",
       " '2',\n",
       " '2',\n",
       " '3',\n",
       " '2',\n",
       " '3',\n",
       " '1',\n",
       " '1',\n",
       " '3',\n",
       " '1',\n",
       " '2',\n",
       " '3',\n",
       " '3',\n",
       " '2',\n",
       " '4',\n",
       " '1',\n",
       " '2',\n",
       " '1',\n",
       " '4',\n",
       " '1',\n",
       " '2',\n",
       " '2',\n",
       " '1',\n",
       " '2',\n",
       " '1',\n",
       " '3',\n",
       " '3',\n",
       " '3',\n",
       " '7',\n",
       " '3',\n",
       " '3',\n",
       " '3',\n",
       " '2',\n",
       " '2',\n",
       " '1',\n",
       " '3',\n",
       " '1',\n",
       " '7',\n",
       " '2',\n",
       " '2',\n",
       " '2',\n",
       " '1',\n",
       " '2',\n",
       " '2',\n",
       " '3',\n",
       " '2',\n",
       " '2',\n",
       " '1',\n",
       " '1',\n",
       " '2',\n",
       " '2',\n",
       " '6',\n",
       " '2',\n",
       " '2',\n",
       " '1',\n",
       " '2',\n",
       " '2',\n",
       " '1',\n",
       " '2',\n",
       " '2',\n",
       " '7',\n",
       " '2',\n",
       " '1',\n",
       " '2',\n",
       " '3',\n",
       " '2',\n",
       " '1',\n",
       " '1',\n",
       " '1',\n",
       " '8',\n",
       " '1',\n",
       " '2',\n",
       " '9',\n",
       " '1',\n",
       " '1',\n",
       " '1',\n",
       " '1',\n",
       " '6',\n",
       " '2',\n",
       " '1',\n",
       " '1',\n",
       " '1',\n",
       " '1',\n",
       " '2',\n",
       " '2',\n",
       " '3',\n",
       " '1',\n",
       " '2',\n",
       " '3',\n",
       " '2',\n",
       " '1',\n",
       " '1',\n",
       " '2',\n",
       " '9',\n",
       " '3',\n",
       " '9',\n",
       " '1',\n",
       " '2',\n",
       " '2',\n",
       " '1',\n",
       " '2',\n",
       " '1',\n",
       " '1',\n",
       " '2',\n",
       " '2',\n",
       " '1',\n",
       " '2',\n",
       " '2',\n",
       " '1',\n",
       " '1',\n",
       " '1',\n",
       " '3',\n",
       " '3',\n",
       " '2',\n",
       " '2',\n",
       " '1',\n",
       " '3',\n",
       " '2',\n",
       " '2',\n",
       " '4',\n",
       " '1',\n",
       " '1',\n",
       " '1',\n",
       " '9',\n",
       " '2',\n",
       " '1',\n",
       " '1',\n",
       " '1',\n",
       " '1',\n",
       " '1',\n",
       " '2',\n",
       " '1',\n",
       " '2',\n",
       " '2',\n",
       " '1',\n",
       " '2',\n",
       " '2',\n",
       " '2',\n",
       " '2',\n",
       " '2',\n",
       " '2',\n",
       " '1',\n",
       " '2',\n",
       " '1',\n",
       " '6',\n",
       " '1',\n",
       " '1',\n",
       " '9',\n",
       " '8',\n",
       " '1',\n",
       " '9',\n",
       " '2',\n",
       " '2',\n",
       " '2',\n",
       " '4',\n",
       " '5',\n",
       " '2',\n",
       " '1',\n",
       " '2',\n",
       " '2',\n",
       " '1',\n",
       " '2',\n",
       " '1',\n",
       " '2',\n",
       " '2',\n",
       " '2',\n",
       " '2',\n",
       " '2',\n",
       " '2',\n",
       " '1',\n",
       " '2',\n",
       " '2',\n",
       " '1',\n",
       " '2',\n",
       " '2',\n",
       " '2',\n",
       " '2',\n",
       " '1',\n",
       " '3',\n",
       " '3',\n",
       " '3',\n",
       " '2',\n",
       " '1',\n",
       " '2',\n",
       " '2',\n",
       " '2',\n",
       " '2',\n",
       " '2',\n",
       " '1',\n",
       " '2',\n",
       " '9',\n",
       " '2',\n",
       " '2',\n",
       " '2',\n",
       " '3',\n",
       " '2',\n",
       " '2',\n",
       " '1',\n",
       " '3',\n",
       " '2',\n",
       " '2',\n",
       " '2',\n",
       " '2',\n",
       " '1',\n",
       " '2',\n",
       " '2',\n",
       " '1',\n",
       " '3',\n",
       " '2',\n",
       " '1',\n",
       " '3',\n",
       " '1',\n",
       " '1',\n",
       " '3',\n",
       " '1',\n",
       " '4',\n",
       " '2',\n",
       " '2',\n",
       " '2',\n",
       " '3',\n",
       " '2',\n",
       " '2',\n",
       " '2',\n",
       " '2',\n",
       " '2',\n",
       " '2',\n",
       " '4',\n",
       " '2',\n",
       " '1',\n",
       " '7',\n",
       " '2',\n",
       " '1',\n",
       " '2',\n",
       " '2',\n",
       " '6',\n",
       " '2',\n",
       " '1',\n",
       " '1',\n",
       " '1',\n",
       " '1',\n",
       " '6',\n",
       " '1',\n",
       " '5',\n",
       " '1',\n",
       " '7',\n",
       " '2',\n",
       " '2',\n",
       " '1',\n",
       " '1',\n",
       " '2',\n",
       " '2',\n",
       " '3',\n",
       " '1',\n",
       " '2',\n",
       " '1',\n",
       " '1',\n",
       " '2',\n",
       " '3',\n",
       " '2',\n",
       " '3',\n",
       " '2',\n",
       " '1',\n",
       " '1',\n",
       " '1',\n",
       " '2',\n",
       " '3',\n",
       " '1',\n",
       " '1',\n",
       " '1',\n",
       " '2',\n",
       " '2',\n",
       " '1',\n",
       " '1',\n",
       " '4',\n",
       " '1',\n",
       " '2',\n",
       " '2',\n",
       " '7',\n",
       " '1',\n",
       " '2',\n",
       " '1',\n",
       " '1',\n",
       " '1',\n",
       " '2',\n",
       " '2',\n",
       " '1',\n",
       " '3',\n",
       " '1',\n",
       " '3',\n",
       " '1',\n",
       " '2',\n",
       " '1',\n",
       " '2',\n",
       " '1',\n",
       " '2',\n",
       " '2',\n",
       " '3',\n",
       " '2',\n",
       " '1',\n",
       " '1',\n",
       " '3',\n",
       " '2',\n",
       " '2',\n",
       " '7',\n",
       " '2',\n",
       " '1',\n",
       " '3',\n",
       " '2',\n",
       " '1',\n",
       " '1',\n",
       " '2',\n",
       " '1',\n",
       " '2',\n",
       " '3',\n",
       " '2',\n",
       " '2',\n",
       " '6',\n",
       " '1',\n",
       " '3',\n",
       " '2',\n",
       " '4',\n",
       " '1',\n",
       " '3',\n",
       " '2',\n",
       " '2',\n",
       " '6',\n",
       " '1',\n",
       " '4',\n",
       " '1',\n",
       " '3',\n",
       " '3',\n",
       " '5',\n",
       " '1',\n",
       " '5',\n",
       " '3',\n",
       " '2',\n",
       " '3',\n",
       " '1',\n",
       " '2',\n",
       " '3',\n",
       " '1',\n",
       " '2',\n",
       " '5',\n",
       " '1',\n",
       " '2',\n",
       " '1',\n",
       " '2',\n",
       " '3',\n",
       " '1',\n",
       " '2',\n",
       " '2',\n",
       " '2',\n",
       " '3',\n",
       " '3',\n",
       " '2',\n",
       " '2',\n",
       " '3',\n",
       " '3',\n",
       " '1',\n",
       " '1',\n",
       " '1',\n",
       " '2',\n",
       " '2',\n",
       " '7',\n",
       " '1',\n",
       " '1',\n",
       " '2',\n",
       " '3',\n",
       " '2',\n",
       " '2',\n",
       " '2',\n",
       " '1',\n",
       " '1',\n",
       " '5',\n",
       " '2',\n",
       " '1',\n",
       " '2',\n",
       " '2',\n",
       " '1',\n",
       " '1',\n",
       " '2',\n",
       " '8',\n",
       " '2',\n",
       " '1',\n",
       " '2',\n",
       " '8',\n",
       " '3',\n",
       " '1',\n",
       " '2',\n",
       " '2',\n",
       " '1',\n",
       " '2',\n",
       " '8',\n",
       " '2',\n",
       " '3',\n",
       " '1',\n",
       " '5',\n",
       " '2',\n",
       " '1',\n",
       " '2',\n",
       " '2',\n",
       " '3',\n",
       " '2',\n",
       " '2',\n",
       " '1',\n",
       " '5',\n",
       " '1',\n",
       " '1',\n",
       " '1',\n",
       " '1',\n",
       " '8',\n",
       " '2',\n",
       " '8',\n",
       " '1',\n",
       " '8',\n",
       " '4',\n",
       " '1',\n",
       " '2',\n",
       " '3',\n",
       " '2',\n",
       " '2',\n",
       " '3',\n",
       " '1',\n",
       " '1',\n",
       " '1',\n",
       " '5',\n",
       " '2',\n",
       " '2',\n",
       " '3',\n",
       " '2',\n",
       " '2',\n",
       " '2',\n",
       " '3',\n",
       " '1',\n",
       " '2',\n",
       " '2',\n",
       " '2',\n",
       " '2',\n",
       " '1',\n",
       " '2',\n",
       " '1',\n",
       " '8',\n",
       " '2',\n",
       " '8',\n",
       " '1',\n",
       " '8',\n",
       " '8',\n",
       " '2',\n",
       " '2',\n",
       " '2',\n",
       " '1',\n",
       " '2',\n",
       " '1',\n",
       " '1',\n",
       " '2',\n",
       " '2',\n",
       " '2',\n",
       " '1',\n",
       " '3',\n",
       " '7',\n",
       " '4',\n",
       " '1',\n",
       " '2',\n",
       " ...]"
      ]
     },
     "execution_count": 277,
     "metadata": {},
     "output_type": "execute_result"
    }
   ],
   "source": [
    "d"
   ]
  },
  {
   "cell_type": "code",
   "execution_count": 267,
   "metadata": {},
   "outputs": [
    {
     "data": {
      "text/plain": [
       "Index(['App', 'Category', 'Rating', 'Reviews', 'Size', 'Memory', 'Installs',\n",
       "       'Type', 'Price', 'Content_rating', 'Genres', 'Last_updated',\n",
       "       'Current Ver', 'Android Ver'],\n",
       "      dtype='object')"
      ]
     },
     "execution_count": 267,
     "metadata": {},
     "output_type": "execute_result"
    }
   ],
   "source": [
    "df.columns"
   ]
  },
  {
   "cell_type": "code",
   "execution_count": 270,
   "metadata": {},
   "outputs": [],
   "source": [
    "df.insert(12,'Year', y)"
   ]
  },
  {
   "cell_type": "code",
   "execution_count": 281,
   "metadata": {},
   "outputs": [],
   "source": [
    "df.insert(13,'Month', m)\n",
    "df.insert(14,'Date', d)"
   ]
  },
  {
   "cell_type": "code",
   "execution_count": 272,
   "metadata": {},
   "outputs": [
    {
     "name": "stdout",
     "output_type": "stream",
     "text": [
      "<class 'pandas.core.frame.DataFrame'>\n",
      "RangeIndex: 10841 entries, 0 to 10840\n",
      "Data columns (total 17 columns):\n",
      " #   Column          Non-Null Count  Dtype  \n",
      "---  ------          --------------  -----  \n",
      " 0   App             10841 non-null  object \n",
      " 1   Category        10841 non-null  object \n",
      " 2   Rating          10841 non-null  float64\n",
      " 3   Reviews         10841 non-null  int64  \n",
      " 4   Size            10841 non-null  float64\n",
      " 5   Memory          10841 non-null  int64  \n",
      " 6   Installs        10841 non-null  int64  \n",
      " 7   Type            10841 non-null  object \n",
      " 8   Price           10841 non-null  object \n",
      " 9   Content_rating  10841 non-null  object \n",
      " 10  Genres          10841 non-null  object \n",
      " 11  Last_updated    10841 non-null  object \n",
      " 12  Year            10841 non-null  object \n",
      " 13  Month           10841 non-null  object \n",
      " 14  Date            10841 non-null  object \n",
      " 15  Current Ver     10833 non-null  object \n",
      " 16  Android Ver     10839 non-null  object \n",
      "dtypes: float64(2), int64(3), object(12)\n",
      "memory usage: 1.4+ MB\n"
     ]
    }
   ],
   "source": [
    "df.info()"
   ]
  },
  {
   "cell_type": "code",
   "execution_count": 282,
   "metadata": {},
   "outputs": [
    {
     "data": {
      "text/plain": [
       "July         3163\n",
       "August       1594\n",
       "June         1273\n",
       "May           978\n",
       "March         667\n",
       "April         616\n",
       "February      534\n",
       "January       491\n",
       "December      426\n",
       "October       398\n",
       "November      387\n",
       "September     314\n",
       "Name: Month, dtype: int64"
      ]
     },
     "execution_count": 282,
     "metadata": {},
     "output_type": "execute_result"
    }
   ],
   "source": [
    "df.Month.value_counts()"
   ]
  },
  {
   "cell_type": "code",
   "execution_count": 290,
   "metadata": {},
   "outputs": [],
   "source": [
    "df.Month.replace([\"January\", 'February', 'March', 'April', 'May', 'June', 'July', 'August', 'September', 'October', 'November', 'December'], [i for i in range(12)],inplace=True)"
   ]
  },
  {
   "cell_type": "code",
   "execution_count": 291,
   "metadata": {},
   "outputs": [
    {
     "data": {
      "text/plain": [
       "dtype('int64')"
      ]
     },
     "execution_count": 291,
     "metadata": {},
     "output_type": "execute_result"
    }
   ],
   "source": [
    "df.Month.dtype"
   ]
  },
  {
   "cell_type": "code",
   "execution_count": 292,
   "metadata": {},
   "outputs": [
    {
     "name": "stdout",
     "output_type": "stream",
     "text": [
      "<class 'pandas.core.frame.DataFrame'>\n",
      "RangeIndex: 10841 entries, 0 to 10840\n",
      "Data columns (total 17 columns):\n",
      " #   Column          Non-Null Count  Dtype  \n",
      "---  ------          --------------  -----  \n",
      " 0   App             10841 non-null  object \n",
      " 1   Category        10841 non-null  object \n",
      " 2   Rating          10841 non-null  float64\n",
      " 3   Reviews         10841 non-null  int64  \n",
      " 4   Size            10841 non-null  float64\n",
      " 5   Memory          10841 non-null  int64  \n",
      " 6   Installs        10841 non-null  int64  \n",
      " 7   Type            10841 non-null  object \n",
      " 8   Price           10841 non-null  object \n",
      " 9   Content_rating  10841 non-null  object \n",
      " 10  Genres          10841 non-null  object \n",
      " 11  Last_updated    10841 non-null  object \n",
      " 12  Year            10841 non-null  object \n",
      " 13  Month           10841 non-null  int64  \n",
      " 14  Date            10841 non-null  object \n",
      " 15  Current Ver     10833 non-null  object \n",
      " 16  Android Ver     10839 non-null  object \n",
      "dtypes: float64(2), int64(4), object(11)\n",
      "memory usage: 1.4+ MB\n"
     ]
    }
   ],
   "source": [
    "df.info()"
   ]
  },
  {
   "cell_type": "code",
   "execution_count": 293,
   "metadata": {},
   "outputs": [],
   "source": [
    "df.drop(\"Last_updated\", axis=1 , inplace=True)"
   ]
  },
  {
   "cell_type": "code",
   "execution_count": 295,
   "metadata": {},
   "outputs": [
    {
     "name": "stdout",
     "output_type": "stream",
     "text": [
      "<class 'pandas.core.frame.DataFrame'>\n",
      "RangeIndex: 10841 entries, 0 to 10840\n",
      "Data columns (total 16 columns):\n",
      " #   Column          Non-Null Count  Dtype  \n",
      "---  ------          --------------  -----  \n",
      " 0   App             10841 non-null  object \n",
      " 1   Category        10841 non-null  object \n",
      " 2   Rating          10841 non-null  float64\n",
      " 3   Reviews         10841 non-null  int64  \n",
      " 4   Size            10841 non-null  float64\n",
      " 5   Memory          10841 non-null  int64  \n",
      " 6   Installs        10841 non-null  int64  \n",
      " 7   Type            10841 non-null  object \n",
      " 8   Price           10841 non-null  object \n",
      " 9   Content_rating  10841 non-null  object \n",
      " 10  Genres          10841 non-null  object \n",
      " 11  Year            10841 non-null  object \n",
      " 12  Month           10841 non-null  int64  \n",
      " 13  Date            10841 non-null  object \n",
      " 14  Current Ver     10833 non-null  object \n",
      " 15  Android Ver     10839 non-null  object \n",
      "dtypes: float64(2), int64(4), object(10)\n",
      "memory usage: 1.3+ MB\n"
     ]
    }
   ],
   "source": [
    "df.info()"
   ]
  },
  {
   "cell_type": "code",
   "execution_count": 296,
   "metadata": {},
   "outputs": [
    {
     "data": {
      "text/plain": [
       "dtype('O')"
      ]
     },
     "execution_count": 296,
     "metadata": {},
     "output_type": "execute_result"
    }
   ],
   "source": [
    "df.Year.dtype"
   ]
  },
  {
   "cell_type": "code",
   "execution_count": 297,
   "metadata": {},
   "outputs": [],
   "source": [
    "df.Year = df.Year.astype(np.int64)"
   ]
  },
  {
   "cell_type": "code",
   "execution_count": 298,
   "metadata": {},
   "outputs": [],
   "source": [
    "df.Date = df.Date.astype(np.int64)"
   ]
  },
  {
   "cell_type": "code",
   "execution_count": 299,
   "metadata": {},
   "outputs": [
    {
     "name": "stdout",
     "output_type": "stream",
     "text": [
      "<class 'pandas.core.frame.DataFrame'>\n",
      "RangeIndex: 10841 entries, 0 to 10840\n",
      "Data columns (total 16 columns):\n",
      " #   Column          Non-Null Count  Dtype  \n",
      "---  ------          --------------  -----  \n",
      " 0   App             10841 non-null  object \n",
      " 1   Category        10841 non-null  object \n",
      " 2   Rating          10841 non-null  float64\n",
      " 3   Reviews         10841 non-null  int64  \n",
      " 4   Size            10841 non-null  float64\n",
      " 5   Memory          10841 non-null  int64  \n",
      " 6   Installs        10841 non-null  int64  \n",
      " 7   Type            10841 non-null  object \n",
      " 8   Price           10841 non-null  object \n",
      " 9   Content_rating  10841 non-null  object \n",
      " 10  Genres          10841 non-null  object \n",
      " 11  Year            10841 non-null  int64  \n",
      " 12  Month           10841 non-null  int64  \n",
      " 13  Date            10841 non-null  int64  \n",
      " 14  Current Ver     10833 non-null  object \n",
      " 15  Android Ver     10839 non-null  object \n",
      "dtypes: float64(2), int64(6), object(8)\n",
      "memory usage: 1.3+ MB\n"
     ]
    }
   ],
   "source": [
    "df.info()"
   ]
  },
  {
   "cell_type": "code",
   "execution_count": 306,
   "metadata": {},
   "outputs": [
    {
     "data": {
      "text/plain": [
       "8"
      ]
     },
     "execution_count": 306,
     "metadata": {},
     "output_type": "execute_result"
    }
   ],
   "source": [
    "df.Current_version.isnull().sum()"
   ]
  },
  {
   "cell_type": "code",
   "execution_count": 309,
   "metadata": {},
   "outputs": [
    {
     "data": {
      "text/html": [
       "<div>\n",
       "<style scoped>\n",
       "    .dataframe tbody tr th:only-of-type {\n",
       "        vertical-align: middle;\n",
       "    }\n",
       "\n",
       "    .dataframe tbody tr th {\n",
       "        vertical-align: top;\n",
       "    }\n",
       "\n",
       "    .dataframe thead th {\n",
       "        text-align: right;\n",
       "    }\n",
       "</style>\n",
       "<table border=\"1\" class=\"dataframe\">\n",
       "  <thead>\n",
       "    <tr style=\"text-align: right;\">\n",
       "      <th></th>\n",
       "      <th>App</th>\n",
       "      <th>Category</th>\n",
       "      <th>Rating</th>\n",
       "      <th>Reviews</th>\n",
       "      <th>Size</th>\n",
       "      <th>Memory</th>\n",
       "      <th>Installs</th>\n",
       "      <th>Type</th>\n",
       "      <th>Price</th>\n",
       "      <th>Content_rating</th>\n",
       "      <th>Genres</th>\n",
       "      <th>Year</th>\n",
       "      <th>Month</th>\n",
       "      <th>Date</th>\n",
       "      <th>Current_version</th>\n",
       "      <th>Android_ver</th>\n",
       "    </tr>\n",
       "  </thead>\n",
       "  <tbody>\n",
       "    <tr>\n",
       "      <th>15</th>\n",
       "      <td>Learn To Draw Kawaii Characters</td>\n",
       "      <td>ART_AND_DESIGN</td>\n",
       "      <td>3.200000</td>\n",
       "      <td>55</td>\n",
       "      <td>2.7</td>\n",
       "      <td>2</td>\n",
       "      <td>5000</td>\n",
       "      <td>Free</td>\n",
       "      <td>0</td>\n",
       "      <td>Everyone</td>\n",
       "      <td>Art &amp; Design</td>\n",
       "      <td>2018</td>\n",
       "      <td>5</td>\n",
       "      <td>6</td>\n",
       "      <td>NaN</td>\n",
       "      <td>4.2 and up</td>\n",
       "    </tr>\n",
       "    <tr>\n",
       "      <th>1553</th>\n",
       "      <td>Market Update Helper</td>\n",
       "      <td>LIBRARIES_AND_DEMO</td>\n",
       "      <td>4.100000</td>\n",
       "      <td>20145</td>\n",
       "      <td>11.0</td>\n",
       "      <td>1</td>\n",
       "      <td>1000000</td>\n",
       "      <td>Free</td>\n",
       "      <td>0</td>\n",
       "      <td>Everyone</td>\n",
       "      <td>Libraries &amp; Demo</td>\n",
       "      <td>2013</td>\n",
       "      <td>1</td>\n",
       "      <td>1</td>\n",
       "      <td>NaN</td>\n",
       "      <td>1.5 and up</td>\n",
       "    </tr>\n",
       "    <tr>\n",
       "      <th>6322</th>\n",
       "      <td>Virtual DJ Sound Mixer</td>\n",
       "      <td>TOOLS</td>\n",
       "      <td>4.200000</td>\n",
       "      <td>4010</td>\n",
       "      <td>8.7</td>\n",
       "      <td>2</td>\n",
       "      <td>500000</td>\n",
       "      <td>Free</td>\n",
       "      <td>0</td>\n",
       "      <td>Everyone</td>\n",
       "      <td>Tools</td>\n",
       "      <td>2017</td>\n",
       "      <td>4</td>\n",
       "      <td>1</td>\n",
       "      <td>NaN</td>\n",
       "      <td>4.0 and up</td>\n",
       "    </tr>\n",
       "    <tr>\n",
       "      <th>6803</th>\n",
       "      <td>BT Master</td>\n",
       "      <td>FAMILY</td>\n",
       "      <td>4.191513</td>\n",
       "      <td>0</td>\n",
       "      <td>222.0</td>\n",
       "      <td>1</td>\n",
       "      <td>100</td>\n",
       "      <td>Free</td>\n",
       "      <td>0</td>\n",
       "      <td>Everyone</td>\n",
       "      <td>Education</td>\n",
       "      <td>2016</td>\n",
       "      <td>10</td>\n",
       "      <td>6</td>\n",
       "      <td>NaN</td>\n",
       "      <td>1.6 and up</td>\n",
       "    </tr>\n",
       "    <tr>\n",
       "      <th>7333</th>\n",
       "      <td>Dots puzzle</td>\n",
       "      <td>FAMILY</td>\n",
       "      <td>4.000000</td>\n",
       "      <td>179</td>\n",
       "      <td>14.0</td>\n",
       "      <td>2</td>\n",
       "      <td>50000</td>\n",
       "      <td>Paid</td>\n",
       "      <td>0.99</td>\n",
       "      <td>Everyone</td>\n",
       "      <td>Puzzle</td>\n",
       "      <td>2018</td>\n",
       "      <td>3</td>\n",
       "      <td>1</td>\n",
       "      <td>NaN</td>\n",
       "      <td>4.0 and up</td>\n",
       "    </tr>\n",
       "    <tr>\n",
       "      <th>7407</th>\n",
       "      <td>Calculate My IQ</td>\n",
       "      <td>FAMILY</td>\n",
       "      <td>4.191513</td>\n",
       "      <td>44</td>\n",
       "      <td>7.2</td>\n",
       "      <td>2</td>\n",
       "      <td>10000</td>\n",
       "      <td>Free</td>\n",
       "      <td>0</td>\n",
       "      <td>Everyone</td>\n",
       "      <td>Entertainment</td>\n",
       "      <td>2017</td>\n",
       "      <td>3</td>\n",
       "      <td>3</td>\n",
       "      <td>NaN</td>\n",
       "      <td>2.3 and up</td>\n",
       "    </tr>\n",
       "    <tr>\n",
       "      <th>7730</th>\n",
       "      <td>UFO-CQ</td>\n",
       "      <td>TOOLS</td>\n",
       "      <td>4.191513</td>\n",
       "      <td>1</td>\n",
       "      <td>237.0</td>\n",
       "      <td>1</td>\n",
       "      <td>10</td>\n",
       "      <td>Paid</td>\n",
       "      <td>0.99</td>\n",
       "      <td>Everyone</td>\n",
       "      <td>Tools</td>\n",
       "      <td>2016</td>\n",
       "      <td>6</td>\n",
       "      <td>4</td>\n",
       "      <td>NaN</td>\n",
       "      <td>2.0 and up</td>\n",
       "    </tr>\n",
       "    <tr>\n",
       "      <th>10342</th>\n",
       "      <td>La Fe de Jesus</td>\n",
       "      <td>BOOKS_AND_REFERENCE</td>\n",
       "      <td>4.191513</td>\n",
       "      <td>8</td>\n",
       "      <td>658.0</td>\n",
       "      <td>1</td>\n",
       "      <td>1000</td>\n",
       "      <td>Free</td>\n",
       "      <td>0</td>\n",
       "      <td>Everyone</td>\n",
       "      <td>Books &amp; Reference</td>\n",
       "      <td>2017</td>\n",
       "      <td>0</td>\n",
       "      <td>3</td>\n",
       "      <td>NaN</td>\n",
       "      <td>3.0 and up</td>\n",
       "    </tr>\n",
       "  </tbody>\n",
       "</table>\n",
       "</div>"
      ],
      "text/plain": [
       "                                   App             Category    Rating  \\\n",
       "15     Learn To Draw Kawaii Characters       ART_AND_DESIGN  3.200000   \n",
       "1553              Market Update Helper   LIBRARIES_AND_DEMO  4.100000   \n",
       "6322            Virtual DJ Sound Mixer                TOOLS  4.200000   \n",
       "6803                         BT Master               FAMILY  4.191513   \n",
       "7333                       Dots puzzle               FAMILY  4.000000   \n",
       "7407                   Calculate My IQ               FAMILY  4.191513   \n",
       "7730                            UFO-CQ                TOOLS  4.191513   \n",
       "10342                   La Fe de Jesus  BOOKS_AND_REFERENCE  4.191513   \n",
       "\n",
       "       Reviews   Size  Memory  Installs  Type Price Content_rating  \\\n",
       "15          55    2.7       2      5000  Free     0       Everyone   \n",
       "1553     20145   11.0       1   1000000  Free     0       Everyone   \n",
       "6322      4010    8.7       2    500000  Free     0       Everyone   \n",
       "6803         0  222.0       1       100  Free     0       Everyone   \n",
       "7333       179   14.0       2     50000  Paid  0.99       Everyone   \n",
       "7407        44    7.2       2     10000  Free     0       Everyone   \n",
       "7730         1  237.0       1        10  Paid  0.99       Everyone   \n",
       "10342        8  658.0       1      1000  Free     0       Everyone   \n",
       "\n",
       "                  Genres  Year  Month  Date Current_version Android_ver  \n",
       "15          Art & Design  2018      5     6             NaN  4.2 and up  \n",
       "1553    Libraries & Demo  2013      1     1             NaN  1.5 and up  \n",
       "6322               Tools  2017      4     1             NaN  4.0 and up  \n",
       "6803           Education  2016     10     6             NaN  1.6 and up  \n",
       "7333              Puzzle  2018      3     1             NaN  4.0 and up  \n",
       "7407       Entertainment  2017      3     3             NaN  2.3 and up  \n",
       "7730               Tools  2016      6     4             NaN  2.0 and up  \n",
       "10342  Books & Reference  2017      0     3             NaN  3.0 and up  "
      ]
     },
     "execution_count": 309,
     "metadata": {},
     "output_type": "execute_result"
    }
   ],
   "source": [
    "df[df.Current_version.isnull()]"
   ]
  },
  {
   "cell_type": "code",
   "execution_count": null,
   "metadata": {},
   "outputs": [],
   "source": []
  }
 ],
 "metadata": {
  "interpreter": {
   "hash": "8ba7674f0a675d2d32fabb4a5a0000e4b3133806f783ea4b528068ee89e7689d"
  },
  "kernelspec": {
   "display_name": "Python 3.10.0 64-bit ('minimal_ds': conda)",
   "language": "python",
   "name": "python3"
  },
  "language_info": {
   "codemirror_mode": {
    "name": "ipython",
    "version": 3
   },
   "file_extension": ".py",
   "mimetype": "text/x-python",
   "name": "python",
   "nbconvert_exporter": "python",
   "pygments_lexer": "ipython3",
   "version": "3.10.0"
  },
  "orig_nbformat": 4
 },
 "nbformat": 4,
 "nbformat_minor": 2
}
